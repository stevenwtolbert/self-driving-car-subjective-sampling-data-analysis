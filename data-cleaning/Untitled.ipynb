{
 "cells": [
  {
   "cell_type": "code",
   "execution_count": 3,
   "id": "b68f70d3-b08f-4185-961c-9e8fc2f77ade",
   "metadata": {},
   "outputs": [],
   "source": [
    "import pingouin as pg\n",
    "from scipy import stats\n",
    "from itertools import combinations\n",
    "import pandas as pd"
   ]
  },
  {
   "cell_type": "code",
   "execution_count": 4,
   "id": "ce4241a4-9fa3-4a4f-8628-263f733960d2",
   "metadata": {},
   "outputs": [],
   "source": [
    "#!pip install reliabiliPy"
   ]
  },
  {
   "cell_type": "code",
   "execution_count": 137,
   "id": "a9ff6cea-a036-41ff-87fc-bff176dee628",
   "metadata": {},
   "outputs": [],
   "source": [
    "eng = pd.read_csv('eng_dbh_cc.csv')\n",
    "spn = pd.read_csv('spn_dbh_cc.csv')\n",
    "grm = pd.read_csv('grm_dbh_cc.csv')\n",
    "engnh = pd.read_csv('eng_dbnh_cc.csv')\n",
    "spnnh = pd.read_csv('spn_dbnh_cc.csv')\n",
    "grmnh = pd.read_csv('grm_dbnh_cc.csv')\n",
    "spn.columns = eng.columns\n",
    "grm.columns = eng.columns\n",
    "spnnh.columns = engnh.columns\n",
    "grmnh.columns = engnh.columns\n",
    "global_data = pd.concat([eng, spn, grm], axis = 0, ignore_index = True)\n"
   ]
  },
  {
   "cell_type": "code",
   "execution_count": 142,
   "id": "6e65c986",
   "metadata": {},
   "outputs": [],
   "source": [
    "full_eng = pd.concat([eng, engnh], axis = 1)"
   ]
  },
  {
   "cell_type": "code",
   "execution_count": 144,
   "id": "cbfa7ccc",
   "metadata": {},
   "outputs": [],
   "source": [
    "full_grm = pd.concat([grm, grmnh], axis = 1)"
   ]
  },
  {
   "cell_type": "code",
   "execution_count": 145,
   "id": "336de159",
   "metadata": {},
   "outputs": [],
   "source": [
    "full_spn = pd.concat([spn, spnnh], axis = 1)"
   ]
  },
  {
   "cell_type": "code",
   "execution_count": 154,
   "id": "c2d21da3",
   "metadata": {},
   "outputs": [
    {
     "name": "stdout",
     "output_type": "stream",
     "text": [
      "here Omega Total 0.777468168984062\n"
     ]
    }
   ],
   "source": [
    "ra = reliability_analysis(raw_dataset=full_eng,\n",
    "                              is_corr_matrix=False,\n",
    "                              impute='median')\n",
    "ra.fit()\n",
    "print('here Omega Total', ra.omega_total)\n",
    "#print('here Alpha Cronbach total', ra.alpha_cronbach)"
   ]
  },
  {
   "cell_type": "code",
   "execution_count": 155,
   "id": "30bd8a81",
   "metadata": {},
   "outputs": [
    {
     "name": "stdout",
     "output_type": "stream",
     "text": [
      "here Omega Total 0.8239492053296762\n"
     ]
    }
   ],
   "source": [
    "ra = reliability_analysis(raw_dataset=full_grm,\n",
    "                              is_corr_matrix=False,\n",
    "                              impute='median')\n",
    "ra.fit()\n",
    "print('here Omega Total', ra.omega_total)\n",
    "#print('here Alpha Cronbach total', ra.alpha_cronbach)"
   ]
  },
  {
   "cell_type": "code",
   "execution_count": 156,
   "id": "f06929f2",
   "metadata": {},
   "outputs": [
    {
     "name": "stdout",
     "output_type": "stream",
     "text": [
      "here Omega Total 0.8121952143827801\n"
     ]
    }
   ],
   "source": [
    "ra = reliability_analysis(raw_dataset=full_spn,\n",
    "                              is_corr_matrix=False,\n",
    "                              impute='median')\n",
    "ra.fit()\n",
    "print('here Omega Total', ra.omega_total)\n",
    "#print('here Alpha Cronbach total', ra.alpha_cronbach)"
   ]
  },
  {
   "cell_type": "code",
   "execution_count": 160,
   "id": "0d61fd6f",
   "metadata": {},
   "outputs": [
    {
     "name": "stdout",
     "output_type": "stream",
     "text": [
      "(0.5029506503126081, array([0.241, 0.702]))\n"
     ]
    }
   ],
   "source": [
    "value = pg.cronbach_alpha(data=full_spn)\n",
    "print(value)"
   ]
  },
  {
   "cell_type": "code",
   "execution_count": 166,
   "id": "b052adf2",
   "metadata": {},
   "outputs": [
    {
     "data": {
      "text/plain": [
       "0.40850000000000003"
      ]
     },
     "execution_count": 166,
     "metadata": {},
     "output_type": "execute_result"
    }
   ],
   "source": [
    "full_eng.mean(axis = 1).mean()"
   ]
  },
  {
   "cell_type": "code",
   "execution_count": 167,
   "id": "405b7e09",
   "metadata": {},
   "outputs": [
    {
     "data": {
      "text/plain": [
       "0.46780303030303033"
      ]
     },
     "execution_count": 167,
     "metadata": {},
     "output_type": "execute_result"
    }
   ],
   "source": [
    "full_grm.mean(axis = 1).mean()"
   ]
  },
  {
   "cell_type": "code",
   "execution_count": 168,
   "id": "53a06d18",
   "metadata": {},
   "outputs": [
    {
     "data": {
      "text/plain": [
       "0.38719512195121947"
      ]
     },
     "execution_count": 168,
     "metadata": {},
     "output_type": "execute_result"
    }
   ],
   "source": [
    "full_spn.mean(axis = 1).mean()"
   ]
  },
  {
   "cell_type": "code",
   "execution_count": 134,
   "id": "a1e8b321",
   "metadata": {},
   "outputs": [
    {
     "name": "stdout",
     "output_type": "stream",
     "text": [
      "here Omega Total 0.7595089632694264\n"
     ]
    },
    {
     "name": "stderr",
     "output_type": "stream",
     "text": [
      "/Users/stolbert/opt/anaconda3/lib/python3.9/site-packages/reliabilipy/_reliabili.py:219: RuntimeWarning: invalid value encountered in double_scalars\n",
      "  self.fa_g.get_uniquenesses()[i] ** 0.5\n"
     ]
    }
   ],
   "source": [
    "ra = reliability_analysis(raw_dataset=eng,\n",
    "                              is_corr_matrix=False,\n",
    "                              impute='median')\n",
    "ra.fit()\n",
    "print('here Omega Total', ra.omega_total)\n",
    "#print('here Alpha Cronbach total', ra.alpha_cronbach)"
   ]
  },
  {
   "cell_type": "code",
   "execution_count": 135,
   "id": "62123da9",
   "metadata": {},
   "outputs": [
    {
     "name": "stdout",
     "output_type": "stream",
     "text": [
      "here Omega Total 0.7801264503924731\n",
      "0.16566874436527346\n",
      "0.2871856762528676\n",
      "                  g  F0  F1  F2\n",
      "eigenvalues  0.4019 NaN NaN NaN\n",
      "      g    F0    F1  F2    u2    h2\n",
      "0  0.11  0.03  0.51 NaN  0.72  0.28\n",
      "1  0.06  0.53  0.17 NaN  0.66  0.34\n",
      "2  0.39  0.15  0.22 NaN  0.76  0.24\n",
      "3  0.29  0.56  0.15 NaN  0.63  0.37\n",
      "4  0.39  0.13  0.19 NaN  0.80  0.20\n"
     ]
    }
   ],
   "source": [
    "ra = reliability_analysis(raw_dataset=grm,\n",
    "                              is_corr_matrix=False,\n",
    "                              impute='median')\n",
    "ra.fit()\n",
    "print('here Omega Total', ra.omega_total)\n",
    "print(reliability_report.lambda1)\n",
    "print(reliability_report.lambda2)\n",
    "print(reliability_report.report_eigenvalues)\n",
    "print(reliability_report.report_loadings)\n",
    "#print('here Alpha Cronbach total', ra.alpha_cronbach)"
   ]
  },
  {
   "cell_type": "code",
   "execution_count": 105,
   "id": "f805167d-0d70-4c4d-bc04-33352708555d",
   "metadata": {},
   "outputs": [],
   "source": [
    "global_data = pd.concat([eng, spn, grm], axis = 0, ignore_index = True)"
   ]
  },
  {
   "cell_type": "code",
   "execution_count": 106,
   "id": "132051e1",
   "metadata": {},
   "outputs": [],
   "source": [
    "from reliabilipy import reliability_analysis"
   ]
  },
  {
   "cell_type": "code",
   "execution_count": 130,
   "id": "668854a3",
   "metadata": {},
   "outputs": [
    {
     "data": {
      "text/plain": [
       "<reliabilipy._reliabili.reliability_analysis at 0x7fd833ecc610>"
      ]
     },
     "execution_count": 130,
     "metadata": {},
     "output_type": "execute_result"
    }
   ],
   "source": [
    "ra."
   ]
  },
  {
   "cell_type": "code",
   "execution_count": 113,
   "id": "f066f7f5",
   "metadata": {},
   "outputs": [
    {
     "name": "stdout",
     "output_type": "stream",
     "text": [
      "here omega Hierarchical:  0.38054904695661085\n",
      "here Omega Hierarchical infinite or asymptotic:  0.6387745381040305\n",
      "here Omega Total 0.595748615914047\n",
      "here Alpha Cronbach total 0.5146710322341008\n"
     ]
    }
   ],
   "source": []
  },
  {
   "cell_type": "code",
   "execution_count": 91,
   "id": "6e0fb5cc",
   "metadata": {},
   "outputs": [
    {
     "data": {
      "text/html": [
       "<div>\n",
       "<style scoped>\n",
       "    .dataframe tbody tr th:only-of-type {\n",
       "        vertical-align: middle;\n",
       "    }\n",
       "\n",
       "    .dataframe tbody tr th {\n",
       "        vertical-align: top;\n",
       "    }\n",
       "\n",
       "    .dataframe thead th {\n",
       "        text-align: right;\n",
       "    }\n",
       "</style>\n",
       "<table border=\"1\" class=\"dataframe\">\n",
       "  <thead>\n",
       "    <tr style=\"text-align: right;\">\n",
       "      <th></th>\n",
       "      <th>dbh_18. Which best describes your driving behavior most of the time in terms of speed while driving on: THE HIGHWAY</th>\n",
       "      <th>dbh_20. Which best describes your lane changing behavior when driving on: THE HIGHWAY</th>\n",
       "      <th>dbh_22. How would you describe the way you accelerate and decelerate while driving on: THE HIGHWAY</th>\n",
       "      <th>dbh_23. How often do you pass other vehicles when driving on: THE HIGHWAY</th>\n",
       "    </tr>\n",
       "  </thead>\n",
       "  <tbody>\n",
       "    <tr>\n",
       "      <th>0</th>\n",
       "      <td>0.0</td>\n",
       "      <td>0.0</td>\n",
       "      <td>0.5</td>\n",
       "      <td>0.25</td>\n",
       "    </tr>\n",
       "    <tr>\n",
       "      <th>1</th>\n",
       "      <td>0.0</td>\n",
       "      <td>0.0</td>\n",
       "      <td>0.5</td>\n",
       "      <td>0.00</td>\n",
       "    </tr>\n",
       "    <tr>\n",
       "      <th>2</th>\n",
       "      <td>0.5</td>\n",
       "      <td>0.0</td>\n",
       "      <td>1.0</td>\n",
       "      <td>0.00</td>\n",
       "    </tr>\n",
       "    <tr>\n",
       "      <th>3</th>\n",
       "      <td>0.5</td>\n",
       "      <td>0.0</td>\n",
       "      <td>0.5</td>\n",
       "      <td>0.25</td>\n",
       "    </tr>\n",
       "    <tr>\n",
       "      <th>4</th>\n",
       "      <td>0.5</td>\n",
       "      <td>0.0</td>\n",
       "      <td>0.0</td>\n",
       "      <td>0.25</td>\n",
       "    </tr>\n",
       "    <tr>\n",
       "      <th>5</th>\n",
       "      <td>1.0</td>\n",
       "      <td>1.0</td>\n",
       "      <td>0.5</td>\n",
       "      <td>0.75</td>\n",
       "    </tr>\n",
       "    <tr>\n",
       "      <th>6</th>\n",
       "      <td>0.5</td>\n",
       "      <td>0.0</td>\n",
       "      <td>0.5</td>\n",
       "      <td>0.00</td>\n",
       "    </tr>\n",
       "    <tr>\n",
       "      <th>7</th>\n",
       "      <td>0.5</td>\n",
       "      <td>0.0</td>\n",
       "      <td>0.0</td>\n",
       "      <td>0.25</td>\n",
       "    </tr>\n",
       "    <tr>\n",
       "      <th>8</th>\n",
       "      <td>0.5</td>\n",
       "      <td>0.5</td>\n",
       "      <td>1.0</td>\n",
       "      <td>0.25</td>\n",
       "    </tr>\n",
       "    <tr>\n",
       "      <th>9</th>\n",
       "      <td>0.0</td>\n",
       "      <td>0.0</td>\n",
       "      <td>0.0</td>\n",
       "      <td>0.00</td>\n",
       "    </tr>\n",
       "    <tr>\n",
       "      <th>10</th>\n",
       "      <td>0.5</td>\n",
       "      <td>0.5</td>\n",
       "      <td>0.5</td>\n",
       "      <td>0.25</td>\n",
       "    </tr>\n",
       "    <tr>\n",
       "      <th>11</th>\n",
       "      <td>1.0</td>\n",
       "      <td>0.0</td>\n",
       "      <td>1.0</td>\n",
       "      <td>0.75</td>\n",
       "    </tr>\n",
       "    <tr>\n",
       "      <th>12</th>\n",
       "      <td>0.5</td>\n",
       "      <td>0.0</td>\n",
       "      <td>0.0</td>\n",
       "      <td>0.00</td>\n",
       "    </tr>\n",
       "    <tr>\n",
       "      <th>13</th>\n",
       "      <td>0.0</td>\n",
       "      <td>0.5</td>\n",
       "      <td>0.5</td>\n",
       "      <td>0.25</td>\n",
       "    </tr>\n",
       "    <tr>\n",
       "      <th>14</th>\n",
       "      <td>1.0</td>\n",
       "      <td>0.5</td>\n",
       "      <td>0.5</td>\n",
       "      <td>0.25</td>\n",
       "    </tr>\n",
       "    <tr>\n",
       "      <th>15</th>\n",
       "      <td>1.0</td>\n",
       "      <td>0.5</td>\n",
       "      <td>0.5</td>\n",
       "      <td>0.00</td>\n",
       "    </tr>\n",
       "    <tr>\n",
       "      <th>16</th>\n",
       "      <td>0.0</td>\n",
       "      <td>1.0</td>\n",
       "      <td>1.0</td>\n",
       "      <td>1.00</td>\n",
       "    </tr>\n",
       "    <tr>\n",
       "      <th>17</th>\n",
       "      <td>0.5</td>\n",
       "      <td>0.5</td>\n",
       "      <td>0.5</td>\n",
       "      <td>0.25</td>\n",
       "    </tr>\n",
       "    <tr>\n",
       "      <th>18</th>\n",
       "      <td>0.5</td>\n",
       "      <td>0.5</td>\n",
       "      <td>0.5</td>\n",
       "      <td>0.25</td>\n",
       "    </tr>\n",
       "    <tr>\n",
       "      <th>19</th>\n",
       "      <td>0.0</td>\n",
       "      <td>0.5</td>\n",
       "      <td>0.0</td>\n",
       "      <td>0.75</td>\n",
       "    </tr>\n",
       "    <tr>\n",
       "      <th>20</th>\n",
       "      <td>0.5</td>\n",
       "      <td>0.5</td>\n",
       "      <td>0.5</td>\n",
       "      <td>0.75</td>\n",
       "    </tr>\n",
       "    <tr>\n",
       "      <th>21</th>\n",
       "      <td>1.0</td>\n",
       "      <td>1.0</td>\n",
       "      <td>1.0</td>\n",
       "      <td>0.75</td>\n",
       "    </tr>\n",
       "    <tr>\n",
       "      <th>22</th>\n",
       "      <td>0.5</td>\n",
       "      <td>0.5</td>\n",
       "      <td>0.5</td>\n",
       "      <td>0.00</td>\n",
       "    </tr>\n",
       "    <tr>\n",
       "      <th>23</th>\n",
       "      <td>1.0</td>\n",
       "      <td>0.5</td>\n",
       "      <td>0.5</td>\n",
       "      <td>0.75</td>\n",
       "    </tr>\n",
       "    <tr>\n",
       "      <th>24</th>\n",
       "      <td>0.5</td>\n",
       "      <td>0.5</td>\n",
       "      <td>0.5</td>\n",
       "      <td>0.75</td>\n",
       "    </tr>\n",
       "    <tr>\n",
       "      <th>25</th>\n",
       "      <td>0.5</td>\n",
       "      <td>0.5</td>\n",
       "      <td>0.0</td>\n",
       "      <td>0.25</td>\n",
       "    </tr>\n",
       "    <tr>\n",
       "      <th>26</th>\n",
       "      <td>1.0</td>\n",
       "      <td>0.5</td>\n",
       "      <td>0.5</td>\n",
       "      <td>0.25</td>\n",
       "    </tr>\n",
       "    <tr>\n",
       "      <th>27</th>\n",
       "      <td>1.0</td>\n",
       "      <td>0.0</td>\n",
       "      <td>0.0</td>\n",
       "      <td>0.75</td>\n",
       "    </tr>\n",
       "    <tr>\n",
       "      <th>28</th>\n",
       "      <td>1.0</td>\n",
       "      <td>0.5</td>\n",
       "      <td>0.5</td>\n",
       "      <td>0.25</td>\n",
       "    </tr>\n",
       "    <tr>\n",
       "      <th>29</th>\n",
       "      <td>0.5</td>\n",
       "      <td>0.5</td>\n",
       "      <td>0.0</td>\n",
       "      <td>0.25</td>\n",
       "    </tr>\n",
       "    <tr>\n",
       "      <th>30</th>\n",
       "      <td>1.0</td>\n",
       "      <td>0.5</td>\n",
       "      <td>0.5</td>\n",
       "      <td>0.25</td>\n",
       "    </tr>\n",
       "    <tr>\n",
       "      <th>31</th>\n",
       "      <td>0.5</td>\n",
       "      <td>1.0</td>\n",
       "      <td>0.5</td>\n",
       "      <td>1.00</td>\n",
       "    </tr>\n",
       "    <tr>\n",
       "      <th>32</th>\n",
       "      <td>0.5</td>\n",
       "      <td>0.0</td>\n",
       "      <td>0.5</td>\n",
       "      <td>0.00</td>\n",
       "    </tr>\n",
       "    <tr>\n",
       "      <th>33</th>\n",
       "      <td>1.0</td>\n",
       "      <td>0.0</td>\n",
       "      <td>0.5</td>\n",
       "      <td>0.25</td>\n",
       "    </tr>\n",
       "    <tr>\n",
       "      <th>34</th>\n",
       "      <td>1.0</td>\n",
       "      <td>0.5</td>\n",
       "      <td>0.5</td>\n",
       "      <td>0.25</td>\n",
       "    </tr>\n",
       "    <tr>\n",
       "      <th>35</th>\n",
       "      <td>1.0</td>\n",
       "      <td>0.5</td>\n",
       "      <td>0.5</td>\n",
       "      <td>0.75</td>\n",
       "    </tr>\n",
       "    <tr>\n",
       "      <th>36</th>\n",
       "      <td>1.0</td>\n",
       "      <td>0.5</td>\n",
       "      <td>0.5</td>\n",
       "      <td>0.75</td>\n",
       "    </tr>\n",
       "    <tr>\n",
       "      <th>37</th>\n",
       "      <td>1.0</td>\n",
       "      <td>0.5</td>\n",
       "      <td>0.5</td>\n",
       "      <td>0.25</td>\n",
       "    </tr>\n",
       "    <tr>\n",
       "      <th>38</th>\n",
       "      <td>1.0</td>\n",
       "      <td>0.5</td>\n",
       "      <td>0.5</td>\n",
       "      <td>0.25</td>\n",
       "    </tr>\n",
       "    <tr>\n",
       "      <th>39</th>\n",
       "      <td>0.0</td>\n",
       "      <td>0.5</td>\n",
       "      <td>0.0</td>\n",
       "      <td>0.75</td>\n",
       "    </tr>\n",
       "    <tr>\n",
       "      <th>40</th>\n",
       "      <td>0.0</td>\n",
       "      <td>0.0</td>\n",
       "      <td>0.0</td>\n",
       "      <td>0.00</td>\n",
       "    </tr>\n",
       "    <tr>\n",
       "      <th>41</th>\n",
       "      <td>0.5</td>\n",
       "      <td>0.5</td>\n",
       "      <td>1.0</td>\n",
       "      <td>0.25</td>\n",
       "    </tr>\n",
       "    <tr>\n",
       "      <th>42</th>\n",
       "      <td>0.0</td>\n",
       "      <td>0.0</td>\n",
       "      <td>0.0</td>\n",
       "      <td>0.75</td>\n",
       "    </tr>\n",
       "    <tr>\n",
       "      <th>43</th>\n",
       "      <td>0.5</td>\n",
       "      <td>0.5</td>\n",
       "      <td>0.5</td>\n",
       "      <td>0.00</td>\n",
       "    </tr>\n",
       "    <tr>\n",
       "      <th>44</th>\n",
       "      <td>0.5</td>\n",
       "      <td>0.0</td>\n",
       "      <td>0.0</td>\n",
       "      <td>0.25</td>\n",
       "    </tr>\n",
       "    <tr>\n",
       "      <th>45</th>\n",
       "      <td>1.0</td>\n",
       "      <td>0.5</td>\n",
       "      <td>0.5</td>\n",
       "      <td>0.75</td>\n",
       "    </tr>\n",
       "    <tr>\n",
       "      <th>46</th>\n",
       "      <td>1.0</td>\n",
       "      <td>0.5</td>\n",
       "      <td>1.0</td>\n",
       "      <td>0.75</td>\n",
       "    </tr>\n",
       "    <tr>\n",
       "      <th>47</th>\n",
       "      <td>0.5</td>\n",
       "      <td>0.5</td>\n",
       "      <td>0.0</td>\n",
       "      <td>0.25</td>\n",
       "    </tr>\n",
       "    <tr>\n",
       "      <th>48</th>\n",
       "      <td>1.0</td>\n",
       "      <td>1.0</td>\n",
       "      <td>0.5</td>\n",
       "      <td>0.25</td>\n",
       "    </tr>\n",
       "    <tr>\n",
       "      <th>49</th>\n",
       "      <td>1.0</td>\n",
       "      <td>0.0</td>\n",
       "      <td>0.5</td>\n",
       "      <td>0.25</td>\n",
       "    </tr>\n",
       "  </tbody>\n",
       "</table>\n",
       "</div>"
      ],
      "text/plain": [
       "    dbh_18. Which best describes your driving behavior most of the time in terms of speed while driving on: THE HIGHWAY  \\\n",
       "0                                                 0.0                                                                     \n",
       "1                                                 0.0                                                                     \n",
       "2                                                 0.5                                                                     \n",
       "3                                                 0.5                                                                     \n",
       "4                                                 0.5                                                                     \n",
       "5                                                 1.0                                                                     \n",
       "6                                                 0.5                                                                     \n",
       "7                                                 0.5                                                                     \n",
       "8                                                 0.5                                                                     \n",
       "9                                                 0.0                                                                     \n",
       "10                                                0.5                                                                     \n",
       "11                                                1.0                                                                     \n",
       "12                                                0.5                                                                     \n",
       "13                                                0.0                                                                     \n",
       "14                                                1.0                                                                     \n",
       "15                                                1.0                                                                     \n",
       "16                                                0.0                                                                     \n",
       "17                                                0.5                                                                     \n",
       "18                                                0.5                                                                     \n",
       "19                                                0.0                                                                     \n",
       "20                                                0.5                                                                     \n",
       "21                                                1.0                                                                     \n",
       "22                                                0.5                                                                     \n",
       "23                                                1.0                                                                     \n",
       "24                                                0.5                                                                     \n",
       "25                                                0.5                                                                     \n",
       "26                                                1.0                                                                     \n",
       "27                                                1.0                                                                     \n",
       "28                                                1.0                                                                     \n",
       "29                                                0.5                                                                     \n",
       "30                                                1.0                                                                     \n",
       "31                                                0.5                                                                     \n",
       "32                                                0.5                                                                     \n",
       "33                                                1.0                                                                     \n",
       "34                                                1.0                                                                     \n",
       "35                                                1.0                                                                     \n",
       "36                                                1.0                                                                     \n",
       "37                                                1.0                                                                     \n",
       "38                                                1.0                                                                     \n",
       "39                                                0.0                                                                     \n",
       "40                                                0.0                                                                     \n",
       "41                                                0.5                                                                     \n",
       "42                                                0.0                                                                     \n",
       "43                                                0.5                                                                     \n",
       "44                                                0.5                                                                     \n",
       "45                                                1.0                                                                     \n",
       "46                                                1.0                                                                     \n",
       "47                                                0.5                                                                     \n",
       "48                                                1.0                                                                     \n",
       "49                                                1.0                                                                     \n",
       "\n",
       "    dbh_20. Which best describes your lane changing behavior when driving on: THE HIGHWAY   \\\n",
       "0                                                 0.0                                        \n",
       "1                                                 0.0                                        \n",
       "2                                                 0.0                                        \n",
       "3                                                 0.0                                        \n",
       "4                                                 0.0                                        \n",
       "5                                                 1.0                                        \n",
       "6                                                 0.0                                        \n",
       "7                                                 0.0                                        \n",
       "8                                                 0.5                                        \n",
       "9                                                 0.0                                        \n",
       "10                                                0.5                                        \n",
       "11                                                0.0                                        \n",
       "12                                                0.0                                        \n",
       "13                                                0.5                                        \n",
       "14                                                0.5                                        \n",
       "15                                                0.5                                        \n",
       "16                                                1.0                                        \n",
       "17                                                0.5                                        \n",
       "18                                                0.5                                        \n",
       "19                                                0.5                                        \n",
       "20                                                0.5                                        \n",
       "21                                                1.0                                        \n",
       "22                                                0.5                                        \n",
       "23                                                0.5                                        \n",
       "24                                                0.5                                        \n",
       "25                                                0.5                                        \n",
       "26                                                0.5                                        \n",
       "27                                                0.0                                        \n",
       "28                                                0.5                                        \n",
       "29                                                0.5                                        \n",
       "30                                                0.5                                        \n",
       "31                                                1.0                                        \n",
       "32                                                0.0                                        \n",
       "33                                                0.0                                        \n",
       "34                                                0.5                                        \n",
       "35                                                0.5                                        \n",
       "36                                                0.5                                        \n",
       "37                                                0.5                                        \n",
       "38                                                0.5                                        \n",
       "39                                                0.5                                        \n",
       "40                                                0.0                                        \n",
       "41                                                0.5                                        \n",
       "42                                                0.0                                        \n",
       "43                                                0.5                                        \n",
       "44                                                0.0                                        \n",
       "45                                                0.5                                        \n",
       "46                                                0.5                                        \n",
       "47                                                0.5                                        \n",
       "48                                                1.0                                        \n",
       "49                                                0.0                                        \n",
       "\n",
       "    dbh_22. How would you describe the way you accelerate and decelerate while driving on: THE HIGHWAY  \\\n",
       "0                                                 0.5                                                    \n",
       "1                                                 0.5                                                    \n",
       "2                                                 1.0                                                    \n",
       "3                                                 0.5                                                    \n",
       "4                                                 0.0                                                    \n",
       "5                                                 0.5                                                    \n",
       "6                                                 0.5                                                    \n",
       "7                                                 0.0                                                    \n",
       "8                                                 1.0                                                    \n",
       "9                                                 0.0                                                    \n",
       "10                                                0.5                                                    \n",
       "11                                                1.0                                                    \n",
       "12                                                0.0                                                    \n",
       "13                                                0.5                                                    \n",
       "14                                                0.5                                                    \n",
       "15                                                0.5                                                    \n",
       "16                                                1.0                                                    \n",
       "17                                                0.5                                                    \n",
       "18                                                0.5                                                    \n",
       "19                                                0.0                                                    \n",
       "20                                                0.5                                                    \n",
       "21                                                1.0                                                    \n",
       "22                                                0.5                                                    \n",
       "23                                                0.5                                                    \n",
       "24                                                0.5                                                    \n",
       "25                                                0.0                                                    \n",
       "26                                                0.5                                                    \n",
       "27                                                0.0                                                    \n",
       "28                                                0.5                                                    \n",
       "29                                                0.0                                                    \n",
       "30                                                0.5                                                    \n",
       "31                                                0.5                                                    \n",
       "32                                                0.5                                                    \n",
       "33                                                0.5                                                    \n",
       "34                                                0.5                                                    \n",
       "35                                                0.5                                                    \n",
       "36                                                0.5                                                    \n",
       "37                                                0.5                                                    \n",
       "38                                                0.5                                                    \n",
       "39                                                0.0                                                    \n",
       "40                                                0.0                                                    \n",
       "41                                                1.0                                                    \n",
       "42                                                0.0                                                    \n",
       "43                                                0.5                                                    \n",
       "44                                                0.0                                                    \n",
       "45                                                0.5                                                    \n",
       "46                                                1.0                                                    \n",
       "47                                                0.0                                                    \n",
       "48                                                0.5                                                    \n",
       "49                                                0.5                                                    \n",
       "\n",
       "    dbh_23. How often do you pass other vehicles when driving on: THE HIGHWAY  \n",
       "0                                                0.25                          \n",
       "1                                                0.00                          \n",
       "2                                                0.00                          \n",
       "3                                                0.25                          \n",
       "4                                                0.25                          \n",
       "5                                                0.75                          \n",
       "6                                                0.00                          \n",
       "7                                                0.25                          \n",
       "8                                                0.25                          \n",
       "9                                                0.00                          \n",
       "10                                               0.25                          \n",
       "11                                               0.75                          \n",
       "12                                               0.00                          \n",
       "13                                               0.25                          \n",
       "14                                               0.25                          \n",
       "15                                               0.00                          \n",
       "16                                               1.00                          \n",
       "17                                               0.25                          \n",
       "18                                               0.25                          \n",
       "19                                               0.75                          \n",
       "20                                               0.75                          \n",
       "21                                               0.75                          \n",
       "22                                               0.00                          \n",
       "23                                               0.75                          \n",
       "24                                               0.75                          \n",
       "25                                               0.25                          \n",
       "26                                               0.25                          \n",
       "27                                               0.75                          \n",
       "28                                               0.25                          \n",
       "29                                               0.25                          \n",
       "30                                               0.25                          \n",
       "31                                               1.00                          \n",
       "32                                               0.00                          \n",
       "33                                               0.25                          \n",
       "34                                               0.25                          \n",
       "35                                               0.75                          \n",
       "36                                               0.75                          \n",
       "37                                               0.25                          \n",
       "38                                               0.25                          \n",
       "39                                               0.75                          \n",
       "40                                               0.00                          \n",
       "41                                               0.25                          \n",
       "42                                               0.75                          \n",
       "43                                               0.00                          \n",
       "44                                               0.25                          \n",
       "45                                               0.75                          \n",
       "46                                               0.75                          \n",
       "47                                               0.25                          \n",
       "48                                               0.25                          \n",
       "49                                               0.25                          "
      ]
     },
     "execution_count": 91,
     "metadata": {},
     "output_type": "execute_result"
    }
   ],
   "source": [
    "eng"
   ]
  },
  {
   "cell_type": "code",
   "execution_count": 80,
   "id": "ed89fef1",
   "metadata": {},
   "outputs": [
    {
     "data": {
      "text/plain": [
       "Index(['dbh_18. Which best describes your driving behavior most of the time in terms of speed while driving on: THE HIGHWAY',\n",
       "       'dbh_20. Which best describes your lane changing behavior when driving on: THE HIGHWAY ',\n",
       "       'dbh_22. How would you describe the way you accelerate and decelerate while driving on: THE HIGHWAY',\n",
       "       'dbh_23. How often do you pass other vehicles when driving on: THE HIGHWAY',\n",
       "       'dbh_25. Which best describes your braking behavior when driving on: THE HIGHWAY'],\n",
       "      dtype='object')"
      ]
     },
     "execution_count": 80,
     "metadata": {},
     "output_type": "execute_result"
    }
   ],
   "source": [
    "inp"
   ]
  },
  {
   "cell_type": "code",
   "execution_count": 136,
   "id": "99ffeb8e-bbd2-4120-8f82-9031b65a7943",
   "metadata": {},
   "outputs": [
    {
     "name": "stdout",
     "output_type": "stream",
     "text": [
      "0.2551980338584732\n",
      "0.13776714291855854\n",
      "0.35830467427403434\n",
      "0.07609139222138274\n",
      "0.5249329130053142\n",
      "0.5517276175948084\n",
      "0.35311988431497293\n",
      "0.4334399260847724\n",
      "0.6061620309863899\n",
      "0.35254532380221437\n",
      "0.4839463657642845\n",
      "0.532706775397032\n",
      "0.37280267653799354\n",
      "0.46584560320751056\n",
      "0.4978300691027848\n",
      "0.4268995842031676\n",
      "0.6387321941981003\n",
      "0.6167916876258576\n"
     ]
    },
    {
     "name": "stderr",
     "output_type": "stream",
     "text": [
      "/Users/stolbert/opt/anaconda3/lib/python3.9/site-packages/reliabilipy/_reliabili.py:219: RuntimeWarning: invalid value encountered in double_scalars\n",
      "  self.fa_g.get_uniquenesses()[i] ** 0.5\n",
      "/Users/stolbert/opt/anaconda3/lib/python3.9/site-packages/reliabilipy/_reliabili.py:219: RuntimeWarning: invalid value encountered in double_scalars\n",
      "  self.fa_g.get_uniquenesses()[i] ** 0.5\n",
      "/Users/stolbert/opt/anaconda3/lib/python3.9/site-packages/reliabilipy/_reliabili.py:219: RuntimeWarning: invalid value encountered in double_scalars\n",
      "  self.fa_g.get_uniquenesses()[i] ** 0.5\n",
      "/Users/stolbert/opt/anaconda3/lib/python3.9/site-packages/reliabilipy/_reliabili.py:219: RuntimeWarning: invalid value encountered in double_scalars\n",
      "  self.fa_g.get_uniquenesses()[i] ** 0.5\n"
     ]
    },
    {
     "name": "stdout",
     "output_type": "stream",
     "text": [
      "0.5608124358464651\n",
      "0.6076484594310892\n",
      "0.6024186631903227\n",
      "0.5922790777043397\n",
      "0.5562948084818004\n",
      "0.595748615914047\n",
      "0.7084122784122918\n",
      "0.6932661591508578\n",
      "['dbh_20. Which best describes your lane changing behavior when driving on: THE HIGHWAY ', 'dbh_22. How would you describe the way you accelerate and decelerate while driving on: THE HIGHWAY', 'dbh_23. How often do you pass other vehicles when driving on: THE HIGHWAY', 'dbh_25. Which best describes your braking behavior when driving on: THE HIGHWAY']\n",
      "0.7084122784122918\n"
     ]
    }
   ],
   "source": [
    "inp = eng.columns\n",
    "output = sum([list(map(list, combinations(inp, i))) for i in range(len(inp) + 1)], [])\n",
    "max_value = 0\n",
    "for key in output:\n",
    "    if(len(key)>1):\n",
    "        #value = pg.cronbach_alpha(data=global_data[key])[0]\n",
    "        ra = reliability_analysis(raw_dataset=spn[key],\n",
    "                              is_corr_matrix=False,\n",
    "                              impute='median')\n",
    "        ra.fit()\n",
    "        value = ra.omega_total\n",
    "        print(value)\n",
    "        # if(value > .7):\n",
    "        #     print(value)\n",
    "        # print(key)\n",
    "        if(value > max_value):\n",
    "            max_key = key\n",
    "            max_value = value\n",
    "print(max_key)\n",
    "print(max_value)"
   ]
  },
  {
   "cell_type": "code",
   "execution_count": 81,
   "id": "6dd5a529-1d78-4fdc-9561-bb3beabd9695",
   "metadata": {},
   "outputs": [],
   "source": [
    "eng = pd.read_csv('eng_dbnh_cc.csv')\n",
    "spn = pd.read_csv('spn_dbnh_cc.csv')\n",
    "grm = pd.read_csv('grm_dbnh_cc.csv')\n",
    "spn.columns = eng.columns\n",
    "grm.columns = eng.columns\n",
    "global_data = pd.concat([eng, spn, grm], axis = 0, ignore_index = True)"
   ]
  },
  {
   "cell_type": "code",
   "execution_count": 82,
   "id": "549aa855",
   "metadata": {},
   "outputs": [
    {
     "data": {
      "text/plain": [
       "(0.062444641275464924, array([-0.35 ,  0.378]))"
      ]
     },
     "execution_count": 82,
     "metadata": {},
     "output_type": "execute_result"
    }
   ],
   "source": [
    "pg.cronbach_alpha(data=grm)"
   ]
  },
  {
   "cell_type": "code",
   "execution_count": null,
   "id": "15fb74c5",
   "metadata": {},
   "outputs": [],
   "source": []
  },
  {
   "cell_type": "code",
   "execution_count": null,
   "id": "fe97bbb9",
   "metadata": {},
   "outputs": [],
   "source": []
  },
  {
   "cell_type": "code",
   "execution_count": 9,
   "id": "72baa022-5256-41bc-9f49-47f91d5ef52e",
   "metadata": {},
   "outputs": [
    {
     "name": "stdout",
     "output_type": "stream",
     "text": [
      "['dbnh_12. Which best describes your lane changing behavior when driving on: NON-HIGHWAY ROADS', 'dbnh_15. How often do you pass other vehicles when driving on: NON-HIGHWAY ROADS']\n",
      "0.40858695652173904\n"
     ]
    }
   ],
   "source": [
    "inp = global_data.columns\n",
    "output = sum([list(map(list, combinations(inp, i))) for i in range(len(inp) + 1)], [])\n",
    "max_value = 0\n",
    "for key in output:\n",
    "    if(len(key)>1):\n",
    "        value = pg.cronbach_alpha(data=global_data[key])[0]\n",
    "        if(value > .7):\n",
    "            print(value)\n",
    "            print(key)\n",
    "        if(value > max_value):\n",
    "            max_key = key\n",
    "            max_value = value\n",
    "print(max_key)\n",
    "print(max_value)"
   ]
  },
  {
   "cell_type": "code",
   "execution_count": null,
   "id": "be655116-030f-41bb-8294-c09f40f2d9ca",
   "metadata": {},
   "outputs": [],
   "source": []
  },
  {
   "cell_type": "code",
   "execution_count": null,
   "id": "f75f55fd",
   "metadata": {},
   "outputs": [],
   "source": []
  }
 ],
 "metadata": {
  "kernelspec": {
   "display_name": "Python 3 (ipykernel)",
   "language": "python",
   "name": "python3"
  },
  "language_info": {
   "codemirror_mode": {
    "name": "ipython",
    "version": 3
   },
   "file_extension": ".py",
   "mimetype": "text/x-python",
   "name": "python",
   "nbconvert_exporter": "python",
   "pygments_lexer": "ipython3",
   "version": "3.9.12"
  }
 },
 "nbformat": 4,
 "nbformat_minor": 5
}
