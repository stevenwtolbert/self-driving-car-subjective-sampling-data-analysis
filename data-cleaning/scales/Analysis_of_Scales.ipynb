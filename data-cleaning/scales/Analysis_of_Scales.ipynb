{
 "cells": [
  {
   "cell_type": "code",
   "execution_count": 116,
   "id": "39d189e7-9c29-448f-b5da-ee3fbdd6f060",
   "metadata": {},
   "outputs": [],
   "source": [
    "import pandas as pd\n",
    "from scipy.stats import pearsonr\n",
    "import matplotlib.pyplot as plt\n",
    "from scipy.stats import mannwhitneyu"
   ]
  },
  {
   "cell_type": "code",
   "execution_count": 103,
   "id": "2154ddaf-9832-46fc-8cb5-f2373ffa38c4",
   "metadata": {},
   "outputs": [],
   "source": [
    "dba = pd.read_csv('global_items.csv')\n",
    "used_dba = [0,1,2,3,6,7,8]\n",
    "dba = dba.iloc[:,used_dba]"
   ]
  },
  {
   "cell_type": "code",
   "execution_count": 165,
   "id": "c852ce9f-52b5-4990-a92b-e82e0c337bb2",
   "metadata": {},
   "outputs": [],
   "source": [
    "sdca = pd.read_csv('sdca_global.csv')\n",
    "used_sdca = [0,1,2,3,6,7,8]\n",
    "sdca = sdca.iloc[:,used_sdca]"
   ]
  },
  {
   "cell_type": "code",
   "execution_count": 168,
   "id": "e61df2ab-6bca-4fcb-98ca-665fe2e9f812",
   "metadata": {},
   "outputs": [
    {
     "data": {
      "text/html": [
       "<div>\n",
       "<style scoped>\n",
       "    .dataframe tbody tr th:only-of-type {\n",
       "        vertical-align: middle;\n",
       "    }\n",
       "\n",
       "    .dataframe tbody tr th {\n",
       "        vertical-align: top;\n",
       "    }\n",
       "\n",
       "    .dataframe thead th {\n",
       "        text-align: right;\n",
       "    }\n",
       "</style>\n",
       "<table border=\"1\" class=\"dataframe\">\n",
       "  <thead>\n",
       "    <tr style=\"text-align: right;\">\n",
       "      <th></th>\n",
       "      <th>aih_53. If you are traveling in a self-driving car, and the car is in control of the speed, what range speed would you feel most comfortable with when driving on: HIGHWAY ROADS</th>\n",
       "      <th>aih_54. If you are traveling in a self-driving car, on HIGHWAY ROADS, you expect the car to change lanes:</th>\n",
       "      <th>aih_55. If you are traveling in a self-driving car, on HIGHWAY ROADS ,your preference for the way it accelerates and decelerate would be:</th>\n",
       "      <th>aih_56. If you are traveling in a self-driving car, how often would you expect the car to pass other vehicles when driving on: HIGHWAY ROADS</th>\n",
       "      <th>ainh_48. If you are traveling in a self-driving car, on NON-HIGHWAY ROADS, you expect the car to change lanes:</th>\n",
       "      <th>ainh_49. If you are traveling in a self-driving car, on NON-HIGHWAY ROADS ,your preference for the way it accelerates and decelerate would be:</th>\n",
       "      <th>ainh_50. If you are traveling in a self-driving car, how often would you expect the car to pass other vehicles when driving on: NON-HIGHWAY ROADS</th>\n",
       "    </tr>\n",
       "  </thead>\n",
       "  <tbody>\n",
       "    <tr>\n",
       "      <th>0</th>\n",
       "      <td>0.0</td>\n",
       "      <td>0.0</td>\n",
       "      <td>0.5</td>\n",
       "      <td>0.0</td>\n",
       "      <td>0.0</td>\n",
       "      <td>0.5</td>\n",
       "      <td>0.0</td>\n",
       "    </tr>\n",
       "    <tr>\n",
       "      <th>1</th>\n",
       "      <td>0.5</td>\n",
       "      <td>0.5</td>\n",
       "      <td>0.5</td>\n",
       "      <td>0.5</td>\n",
       "      <td>0.0</td>\n",
       "      <td>0.5</td>\n",
       "      <td>0.5</td>\n",
       "    </tr>\n",
       "    <tr>\n",
       "      <th>2</th>\n",
       "      <td>0.0</td>\n",
       "      <td>0.0</td>\n",
       "      <td>0.0</td>\n",
       "      <td>0.0</td>\n",
       "      <td>0.0</td>\n",
       "      <td>0.0</td>\n",
       "      <td>0.0</td>\n",
       "    </tr>\n",
       "    <tr>\n",
       "      <th>3</th>\n",
       "      <td>0.5</td>\n",
       "      <td>0.5</td>\n",
       "      <td>0.5</td>\n",
       "      <td>0.5</td>\n",
       "      <td>0.0</td>\n",
       "      <td>0.0</td>\n",
       "      <td>0.5</td>\n",
       "    </tr>\n",
       "    <tr>\n",
       "      <th>4</th>\n",
       "      <td>0.0</td>\n",
       "      <td>0.0</td>\n",
       "      <td>0.0</td>\n",
       "      <td>0.0</td>\n",
       "      <td>0.0</td>\n",
       "      <td>0.0</td>\n",
       "      <td>0.0</td>\n",
       "    </tr>\n",
       "    <tr>\n",
       "      <th>...</th>\n",
       "      <td>...</td>\n",
       "      <td>...</td>\n",
       "      <td>...</td>\n",
       "      <td>...</td>\n",
       "      <td>...</td>\n",
       "      <td>...</td>\n",
       "      <td>...</td>\n",
       "    </tr>\n",
       "    <tr>\n",
       "      <th>152</th>\n",
       "      <td>0.5</td>\n",
       "      <td>0.0</td>\n",
       "      <td>0.0</td>\n",
       "      <td>0.0</td>\n",
       "      <td>0.0</td>\n",
       "      <td>0.0</td>\n",
       "      <td>0.0</td>\n",
       "    </tr>\n",
       "    <tr>\n",
       "      <th>153</th>\n",
       "      <td>0.5</td>\n",
       "      <td>0.5</td>\n",
       "      <td>0.5</td>\n",
       "      <td>0.5</td>\n",
       "      <td>0.5</td>\n",
       "      <td>0.5</td>\n",
       "      <td>0.5</td>\n",
       "    </tr>\n",
       "    <tr>\n",
       "      <th>154</th>\n",
       "      <td>0.5</td>\n",
       "      <td>0.5</td>\n",
       "      <td>0.5</td>\n",
       "      <td>0.5</td>\n",
       "      <td>0.0</td>\n",
       "      <td>0.5</td>\n",
       "      <td>0.0</td>\n",
       "    </tr>\n",
       "    <tr>\n",
       "      <th>155</th>\n",
       "      <td>0.5</td>\n",
       "      <td>0.0</td>\n",
       "      <td>0.5</td>\n",
       "      <td>0.5</td>\n",
       "      <td>0.5</td>\n",
       "      <td>0.5</td>\n",
       "      <td>0.5</td>\n",
       "    </tr>\n",
       "    <tr>\n",
       "      <th>156</th>\n",
       "      <td>0.5</td>\n",
       "      <td>0.5</td>\n",
       "      <td>0.5</td>\n",
       "      <td>0.5</td>\n",
       "      <td>0.5</td>\n",
       "      <td>0.5</td>\n",
       "      <td>0.5</td>\n",
       "    </tr>\n",
       "  </tbody>\n",
       "</table>\n",
       "<p>157 rows × 7 columns</p>\n",
       "</div>"
      ],
      "text/plain": [
       "     aih_53. If you are traveling in a self-driving car, and the car is in control of the speed, what range speed would you feel most comfortable with when driving on: HIGHWAY ROADS   \\\n",
       "0                                                  0.0                                                                                                                                   \n",
       "1                                                  0.5                                                                                                                                   \n",
       "2                                                  0.0                                                                                                                                   \n",
       "3                                                  0.5                                                                                                                                   \n",
       "4                                                  0.0                                                                                                                                   \n",
       "..                                                 ...                                                                                                                                   \n",
       "152                                                0.5                                                                                                                                   \n",
       "153                                                0.5                                                                                                                                   \n",
       "154                                                0.5                                                                                                                                   \n",
       "155                                                0.5                                                                                                                                   \n",
       "156                                                0.5                                                                                                                                   \n",
       "\n",
       "     aih_54. If you are traveling in a self-driving car, on HIGHWAY ROADS, you expect the car to change lanes:  \\\n",
       "0                                                  0.0                                                           \n",
       "1                                                  0.5                                                           \n",
       "2                                                  0.0                                                           \n",
       "3                                                  0.5                                                           \n",
       "4                                                  0.0                                                           \n",
       "..                                                 ...                                                           \n",
       "152                                                0.0                                                           \n",
       "153                                                0.5                                                           \n",
       "154                                                0.5                                                           \n",
       "155                                                0.0                                                           \n",
       "156                                                0.5                                                           \n",
       "\n",
       "     aih_55. If you are traveling in a self-driving car, on HIGHWAY ROADS ,your preference for the way it accelerates and decelerate would be:  \\\n",
       "0                                                  0.5                                                                                           \n",
       "1                                                  0.5                                                                                           \n",
       "2                                                  0.0                                                                                           \n",
       "3                                                  0.5                                                                                           \n",
       "4                                                  0.0                                                                                           \n",
       "..                                                 ...                                                                                           \n",
       "152                                                0.0                                                                                           \n",
       "153                                                0.5                                                                                           \n",
       "154                                                0.5                                                                                           \n",
       "155                                                0.5                                                                                           \n",
       "156                                                0.5                                                                                           \n",
       "\n",
       "     aih_56. If you are traveling in a self-driving car, how often would you expect the car to pass other vehicles when driving on: HIGHWAY ROADS   \\\n",
       "0                                                  0.0                                                                                               \n",
       "1                                                  0.5                                                                                               \n",
       "2                                                  0.0                                                                                               \n",
       "3                                                  0.5                                                                                               \n",
       "4                                                  0.0                                                                                               \n",
       "..                                                 ...                                                                                               \n",
       "152                                                0.0                                                                                               \n",
       "153                                                0.5                                                                                               \n",
       "154                                                0.5                                                                                               \n",
       "155                                                0.5                                                                                               \n",
       "156                                                0.5                                                                                               \n",
       "\n",
       "     ainh_48. If you are traveling in a self-driving car, on NON-HIGHWAY ROADS, you expect the car to change lanes:  \\\n",
       "0                                                  0.0                                                                \n",
       "1                                                  0.0                                                                \n",
       "2                                                  0.0                                                                \n",
       "3                                                  0.0                                                                \n",
       "4                                                  0.0                                                                \n",
       "..                                                 ...                                                                \n",
       "152                                                0.0                                                                \n",
       "153                                                0.5                                                                \n",
       "154                                                0.0                                                                \n",
       "155                                                0.5                                                                \n",
       "156                                                0.5                                                                \n",
       "\n",
       "     ainh_49. If you are traveling in a self-driving car, on NON-HIGHWAY ROADS ,your preference for the way it accelerates and decelerate would be:  \\\n",
       "0                                                  0.5                                                                                                \n",
       "1                                                  0.5                                                                                                \n",
       "2                                                  0.0                                                                                                \n",
       "3                                                  0.0                                                                                                \n",
       "4                                                  0.0                                                                                                \n",
       "..                                                 ...                                                                                                \n",
       "152                                                0.0                                                                                                \n",
       "153                                                0.5                                                                                                \n",
       "154                                                0.5                                                                                                \n",
       "155                                                0.5                                                                                                \n",
       "156                                                0.5                                                                                                \n",
       "\n",
       "     ainh_50. If you are traveling in a self-driving car, how often would you expect the car to pass other vehicles when driving on: NON-HIGHWAY ROADS   \n",
       "0                                                  0.0                                                                                                   \n",
       "1                                                  0.5                                                                                                   \n",
       "2                                                  0.0                                                                                                   \n",
       "3                                                  0.5                                                                                                   \n",
       "4                                                  0.0                                                                                                   \n",
       "..                                                 ...                                                                                                   \n",
       "152                                                0.0                                                                                                   \n",
       "153                                                0.5                                                                                                   \n",
       "154                                                0.0                                                                                                   \n",
       "155                                                0.5                                                                                                   \n",
       "156                                                0.5                                                                                                   \n",
       "\n",
       "[157 rows x 7 columns]"
      ]
     },
     "execution_count": 168,
     "metadata": {},
     "output_type": "execute_result"
    }
   ],
   "source": [
    "sdca"
   ]
  },
  {
   "cell_type": "code",
   "execution_count": 27,
   "id": "39e7af9d-0ff4-451f-905d-65763e5c54db",
   "metadata": {},
   "outputs": [],
   "source": [
    "aidmt = pd.read_csv('aidmt_global.csv')\n",
    "used_aidmt = [0,1,2,3,4,5]\n",
    "aidmt = aidmt.iloc[:,used_aidmt]"
   ]
  },
  {
   "cell_type": "code",
   "execution_count": 28,
   "id": "64632c0a-388e-4ff4-9c02-cac071774e71",
   "metadata": {},
   "outputs": [],
   "source": [
    "ait = pd.read_csv('ait_global.csv')\n",
    "used_ait = [0,2,3,4,5,6]\n",
    "ait = ait.iloc[:,used_ait]"
   ]
  },
  {
   "cell_type": "code",
   "execution_count": 29,
   "id": "29cd5f68-9462-4b73-9774-fd6ba69f5b1b",
   "metadata": {},
   "outputs": [],
   "source": [
    "dss = pd.read_csv('dss_global.csv')\n",
    "used_dss = [1,2,3,5,7,8,9]\n",
    "dss = dss.iloc[:,used_dss]"
   ]
  },
  {
   "cell_type": "code",
   "execution_count": 42,
   "id": "bc7d5e81-4c90-46ed-a60e-68263b5f4c6c",
   "metadata": {},
   "outputs": [],
   "source": [
    "scales = [dba, sdca, aidmt, dss]\n",
    "names = ['DBA', 'SDCA','AIDMT', 'DSS']"
   ]
  },
  {
   "cell_type": "code",
   "execution_count": 170,
   "id": "8f37809f-41ee-45c4-9947-064c4976c733",
   "metadata": {},
   "outputs": [],
   "source": [
    "test = pd.DataFrame()\n",
    "test['DBA'] = dba.mean(axis = 1)\n",
    "test['SDCA'] = sdca.mean(axis = 1)   \n",
    "test['AIDMT'] = aidmt.mean(axis = 1)   \n",
    "test['AIT'] = ait.mean(axis = 1)   \n",
    "test['DSS'] = dss.mean(axis = 1)   \n"
   ]
  },
  {
   "cell_type": "code",
   "execution_count": 171,
   "id": "642be878-6bfa-443e-accc-e971a93e9925",
   "metadata": {},
   "outputs": [
    {
     "data": {
      "text/html": [
       "<div>\n",
       "<style scoped>\n",
       "    .dataframe tbody tr th:only-of-type {\n",
       "        vertical-align: middle;\n",
       "    }\n",
       "\n",
       "    .dataframe tbody tr th {\n",
       "        vertical-align: top;\n",
       "    }\n",
       "\n",
       "    .dataframe thead th {\n",
       "        text-align: right;\n",
       "    }\n",
       "</style>\n",
       "<table border=\"1\" class=\"dataframe\">\n",
       "  <thead>\n",
       "    <tr style=\"text-align: right;\">\n",
       "      <th></th>\n",
       "      <th>DBA</th>\n",
       "      <th>SDCA</th>\n",
       "      <th>AIDMT</th>\n",
       "      <th>AIT</th>\n",
       "      <th>DSS</th>\n",
       "    </tr>\n",
       "  </thead>\n",
       "  <tbody>\n",
       "    <tr>\n",
       "      <th>DBA</th>\n",
       "      <td>1.000000</td>\n",
       "      <td>0.364718</td>\n",
       "      <td>0.101817</td>\n",
       "      <td>-0.080623</td>\n",
       "      <td>0.522611</td>\n",
       "    </tr>\n",
       "    <tr>\n",
       "      <th>SDCA</th>\n",
       "      <td>0.364718</td>\n",
       "      <td>1.000000</td>\n",
       "      <td>0.266252</td>\n",
       "      <td>0.299933</td>\n",
       "      <td>0.494453</td>\n",
       "    </tr>\n",
       "    <tr>\n",
       "      <th>AIDMT</th>\n",
       "      <td>0.101817</td>\n",
       "      <td>0.266252</td>\n",
       "      <td>1.000000</td>\n",
       "      <td>0.635581</td>\n",
       "      <td>-0.039634</td>\n",
       "    </tr>\n",
       "    <tr>\n",
       "      <th>AIT</th>\n",
       "      <td>-0.080623</td>\n",
       "      <td>0.299933</td>\n",
       "      <td>0.635581</td>\n",
       "      <td>1.000000</td>\n",
       "      <td>0.037365</td>\n",
       "    </tr>\n",
       "    <tr>\n",
       "      <th>DSS</th>\n",
       "      <td>0.522611</td>\n",
       "      <td>0.494453</td>\n",
       "      <td>-0.039634</td>\n",
       "      <td>0.037365</td>\n",
       "      <td>1.000000</td>\n",
       "    </tr>\n",
       "  </tbody>\n",
       "</table>\n",
       "</div>"
      ],
      "text/plain": [
       "            DBA      SDCA     AIDMT       AIT       DSS\n",
       "DBA    1.000000  0.364718  0.101817 -0.080623  0.522611\n",
       "SDCA   0.364718  1.000000  0.266252  0.299933  0.494453\n",
       "AIDMT  0.101817  0.266252  1.000000  0.635581 -0.039634\n",
       "AIT   -0.080623  0.299933  0.635581  1.000000  0.037365\n",
       "DSS    0.522611  0.494453 -0.039634  0.037365  1.000000"
      ]
     },
     "execution_count": 171,
     "metadata": {},
     "output_type": "execute_result"
    }
   ],
   "source": [
    "test.corr()"
   ]
  },
  {
   "cell_type": "code",
   "execution_count": 169,
   "id": "4289511d-f067-47ab-879a-926d6a076639",
   "metadata": {},
   "outputs": [
    {
     "data": {
      "text/html": [
       "<div>\n",
       "<style scoped>\n",
       "    .dataframe tbody tr th:only-of-type {\n",
       "        vertical-align: middle;\n",
       "    }\n",
       "\n",
       "    .dataframe tbody tr th {\n",
       "        vertical-align: top;\n",
       "    }\n",
       "\n",
       "    .dataframe thead th {\n",
       "        text-align: right;\n",
       "    }\n",
       "</style>\n",
       "<table border=\"1\" class=\"dataframe\">\n",
       "  <thead>\n",
       "    <tr style=\"text-align: right;\">\n",
       "      <th></th>\n",
       "      <th>DBA</th>\n",
       "      <th>SDCA</th>\n",
       "      <th>AIDMT</th>\n",
       "      <th>AIT</th>\n",
       "      <th>DSS</th>\n",
       "    </tr>\n",
       "  </thead>\n",
       "  <tbody>\n",
       "    <tr>\n",
       "      <th>count</th>\n",
       "      <td>157.000000</td>\n",
       "      <td>157.000000</td>\n",
       "      <td>157.000000</td>\n",
       "      <td>157.000000</td>\n",
       "      <td>157.000000</td>\n",
       "    </tr>\n",
       "    <tr>\n",
       "      <th>mean</th>\n",
       "      <td>0.400136</td>\n",
       "      <td>0.355892</td>\n",
       "      <td>0.546178</td>\n",
       "      <td>0.480626</td>\n",
       "      <td>0.222247</td>\n",
       "    </tr>\n",
       "    <tr>\n",
       "      <th>std</th>\n",
       "      <td>0.182992</td>\n",
       "      <td>0.223860</td>\n",
       "      <td>0.267529</td>\n",
       "      <td>0.247068</td>\n",
       "      <td>0.163543</td>\n",
       "    </tr>\n",
       "    <tr>\n",
       "      <th>min</th>\n",
       "      <td>0.000000</td>\n",
       "      <td>0.000000</td>\n",
       "      <td>0.000000</td>\n",
       "      <td>0.000000</td>\n",
       "      <td>0.000000</td>\n",
       "    </tr>\n",
       "    <tr>\n",
       "      <th>25%</th>\n",
       "      <td>0.285714</td>\n",
       "      <td>0.125000</td>\n",
       "      <td>0.375000</td>\n",
       "      <td>0.291667</td>\n",
       "      <td>0.107143</td>\n",
       "    </tr>\n",
       "    <tr>\n",
       "      <th>50%</th>\n",
       "      <td>0.428571</td>\n",
       "      <td>0.375000</td>\n",
       "      <td>0.541667</td>\n",
       "      <td>0.500000</td>\n",
       "      <td>0.214286</td>\n",
       "    </tr>\n",
       "    <tr>\n",
       "      <th>75%</th>\n",
       "      <td>0.500000</td>\n",
       "      <td>0.500000</td>\n",
       "      <td>0.791667</td>\n",
       "      <td>0.625000</td>\n",
       "      <td>0.321429</td>\n",
       "    </tr>\n",
       "    <tr>\n",
       "      <th>max</th>\n",
       "      <td>0.785714</td>\n",
       "      <td>1.000000</td>\n",
       "      <td>1.000000</td>\n",
       "      <td>1.000000</td>\n",
       "      <td>0.750000</td>\n",
       "    </tr>\n",
       "  </tbody>\n",
       "</table>\n",
       "</div>"
      ],
      "text/plain": [
       "              DBA        SDCA       AIDMT         AIT         DSS\n",
       "count  157.000000  157.000000  157.000000  157.000000  157.000000\n",
       "mean     0.400136    0.355892    0.546178    0.480626    0.222247\n",
       "std      0.182992    0.223860    0.267529    0.247068    0.163543\n",
       "min      0.000000    0.000000    0.000000    0.000000    0.000000\n",
       "25%      0.285714    0.125000    0.375000    0.291667    0.107143\n",
       "50%      0.428571    0.375000    0.541667    0.500000    0.214286\n",
       "75%      0.500000    0.500000    0.791667    0.625000    0.321429\n",
       "max      0.785714    1.000000    1.000000    1.000000    0.750000"
      ]
     },
     "execution_count": 169,
     "metadata": {},
     "output_type": "execute_result"
    }
   ],
   "source": [
    "test.describe()"
   ]
  },
  {
   "cell_type": "code",
   "execution_count": 172,
   "id": "fbe008d5-bd4b-4cb0-b5bc-f2118d26357d",
   "metadata": {},
   "outputs": [
    {
     "data": {
      "text/plain": [
       "count    157.000000\n",
       "mean       0.400136\n",
       "std        0.182992\n",
       "min        0.000000\n",
       "25%        0.285714\n",
       "50%        0.428571\n",
       "75%        0.500000\n",
       "max        0.785714\n",
       "dtype: float64"
      ]
     },
     "execution_count": 172,
     "metadata": {},
     "output_type": "execute_result"
    }
   ],
   "source": [
    "dba.mean(axis = 1).describe()"
   ]
  },
  {
   "cell_type": "code",
   "execution_count": 173,
   "id": "b857457d-c766-4efb-aedb-7e29d5e99b52",
   "metadata": {},
   "outputs": [
    {
     "data": {
      "text/plain": [
       "count    157.000000\n",
       "mean       0.325751\n",
       "std        0.208772\n",
       "min        0.000000\n",
       "25%        0.214286\n",
       "50%        0.357143\n",
       "75%        0.500000\n",
       "max        1.000000\n",
       "dtype: float64"
      ]
     },
     "execution_count": 173,
     "metadata": {},
     "output_type": "execute_result"
    }
   ],
   "source": [
    "sdca.mean(axis = 1).describe()"
   ]
  },
  {
   "cell_type": "code",
   "execution_count": 62,
   "id": "f5db5e66-fc6a-4037-9a58-13b4e3a10100",
   "metadata": {},
   "outputs": [
    {
     "data": {
      "text/plain": [
       "count    157.000000\n",
       "mean       0.480626\n",
       "std        0.247068\n",
       "min        0.000000\n",
       "25%        0.291667\n",
       "50%        0.500000\n",
       "75%        0.625000\n",
       "max        1.000000\n",
       "dtype: float64"
      ]
     },
     "execution_count": 62,
     "metadata": {},
     "output_type": "execute_result"
    }
   ],
   "source": [
    "ait.mean(axis = 1).describe()"
   ]
  },
  {
   "cell_type": "code",
   "execution_count": 61,
   "id": "f47a79d0-5a55-4195-909f-b6b21a7831e6",
   "metadata": {},
   "outputs": [
    {
     "data": {
      "text/plain": [
       "count    157.000000\n",
       "mean       0.546178\n",
       "std        0.267529\n",
       "min        0.000000\n",
       "25%        0.375000\n",
       "50%        0.541667\n",
       "75%        0.791667\n",
       "max        1.000000\n",
       "dtype: float64"
      ]
     },
     "execution_count": 61,
     "metadata": {},
     "output_type": "execute_result"
    }
   ],
   "source": [
    "aidmt.mean(axis = 1).describe()"
   ]
  },
  {
   "cell_type": "code",
   "execution_count": 63,
   "id": "99b1e713-0e8e-4513-96d7-9eff49652ab4",
   "metadata": {},
   "outputs": [
    {
     "data": {
      "text/plain": [
       "count    157.000000\n",
       "mean       0.222247\n",
       "std        0.163543\n",
       "min        0.000000\n",
       "25%        0.107143\n",
       "50%        0.214286\n",
       "75%        0.321429\n",
       "max        0.750000\n",
       "dtype: float64"
      ]
     },
     "execution_count": 63,
     "metadata": {},
     "output_type": "execute_result"
    }
   ],
   "source": [
    "dss.mean(axis = 1).describe()"
   ]
  },
  {
   "cell_type": "code",
   "execution_count": 263,
   "id": "377c13b5-0789-4e19-a5f9-a03188b03392",
   "metadata": {},
   "outputs": [],
   "source": [
    "eng_metrics = [eng_dba, eng_sdca, eng_ait, eng_aidmt, eng_dss]\n",
    "grm_metrics = [grm_dba, grm_sdca, grm_ait, grm_aidmt, grm_dss]\n",
    "for i, metric in enumerate(eng_metrics):\n",
    "    stat_lt, p_lt = mannwhitneyu(metric.mean(axis =1),\n",
    "                           grm_metrics[i].mean(axis =1),\n",
    "                           alternative = 'less')\n",
    "    stat_gt, p_gt = mannwhitneyu(metric.mean(axis =1),\n",
    "                           grm_metrics[i].mean(axis =1),\n",
    "                           alternative = 'greater')\n",
    "    stat_ts, p_ts = mannwhitneyu(metric.mean(axis =1),\n",
    "                           grm_metrics[i].mean(axis =1),\n",
    "                           alternative = 'two-sided')\n",
    "    if(p_ts < .05):\n",
    "        print(i)\n",
    "        print(stat_ts, p_ts)\n",
    "    if(p_lt < .05):\n",
    "        print(i)\n",
    "        print(stat_lt, p_lt)\n",
    "    if(p_gt < .05):\n",
    "        print(i)\n",
    "        print(stat_gt, p_gt)"
   ]
  },
  {
   "cell_type": "code",
   "execution_count": 276,
   "id": "f3aa21c3-0ef6-478c-8884-8d85c22311da",
   "metadata": {},
   "outputs": [
    {
     "name": "stdout",
     "output_type": "stream",
     "text": [
      "eng>spn dba\n",
      "1342.0 0.005645870238816373\n",
      "eng>spn sdca\n",
      "1383.0 0.0020195269384673522\n",
      "eng>spn ait\n",
      "1266.5 0.02686919855720852\n",
      "eng>spn aidmt\n",
      "1477.0 0.00015377352350457097\n",
      "eng>spn dss\n",
      "1484.0 0.00012036656300227209\n"
     ]
    }
   ],
   "source": [
    "eng_metrics = [eng_dba, eng_sdca, eng_ait, eng_aidmt, eng_dss]\n",
    "spn_metrics = [spn_dba, spn_sdca, spn_ait, spn_aidmt, spn_dss]\n",
    "metric_map = ['dba', 'sdca', 'ait', 'aidmt', 'dss']\n",
    "for i, metric in enumerate(eng_metrics):\n",
    "    stat_lt, p_lt = mannwhitneyu(metric.mean(axis =1),\n",
    "                           spn_metrics[i].mean(axis =1),\n",
    "                           alternative = 'less')\n",
    "    stat_gt, p_gt = mannwhitneyu(metric.mean(axis =1),\n",
    "                           spn_metrics[i].mean(axis =1),\n",
    "                           alternative = 'greater')\n",
    "    stat_ts, p_ts = mannwhitneyu(metric.mean(axis =1),\n",
    "                           spn_metrics[i].mean(axis =1),\n",
    "                           alternative = 'two-sided')\n",
    " \n",
    "    if(p_lt < .05):\n",
    "        print('eng<spn', metric_map[i])\n",
    "        print(stat_lt, p_lt)\n",
    "    if(p_gt < .05):\n",
    "        print('eng>spn', metric_map[i])\n",
    "        print(stat_gt, p_gt)"
   ]
  },
  {
   "cell_type": "code",
   "execution_count": 280,
   "id": "429ae631-95d1-4646-9842-0f53524b2d83",
   "metadata": {},
   "outputs": [
    {
     "name": "stdout",
     "output_type": "stream",
     "text": [
      "grm>spn dba\n",
      "1959.5 4.808146403795116e-05\n",
      "grm>spn sdca\n",
      "1770.0 0.003459806013847467\n",
      "grm>spn aidmt\n",
      "1823.0 0.0012875974487270452\n",
      "grm>spn dss\n",
      "1752.5 0.005042182286282669\n"
     ]
    }
   ],
   "source": [
    "grm_metrics = [grm_dba, grm_sdca, grm_ait, grm_aidmt, grm_dss]\n",
    "spn_metrics = [spn_dba, spn_sdca, spn_ait, spn_aidmt, spn_dss]\n",
    "metric_map = ['dba', 'sdca', 'ait', 'aidmt', 'dss']\n",
    "for i, metric in enumerate(grm_metrics):\n",
    "    stat_lt, p_lt = mannwhitneyu(metric.mean(axis =1),\n",
    "                           spn_metrics[i].mean(axis =1),\n",
    "                           alternative = 'less')\n",
    "    stat_gt, p_gt = mannwhitneyu(metric.mean(axis =1),\n",
    "                           spn_metrics[i].mean(axis =1),\n",
    "                           alternative = 'greater')\n",
    "    stat_ts, p_ts = mannwhitneyu(metric.mean(axis =1),\n",
    "                           spn_metrics[i].mean(axis =1),\n",
    "                           alternative = 'two-sided')\n",
    " \n",
    "    if(p_lt < .05):\n",
    "        print('grm<spn', metric_map[i])\n",
    "        print(stat_lt, p_lt)\n",
    "    if(p_gt < .05):\n",
    "        print('grm>spn', metric_map[i])\n",
    "        print(stat_gt, p_gt)"
   ]
  },
  {
   "cell_type": "code",
   "execution_count": 174,
   "id": "b1c5ace0-22bd-46c7-a971-b56a9be5e2ac",
   "metadata": {},
   "outputs": [
    {
     "name": "stdout",
     "output_type": "stream",
     "text": [
      "ENG:\n",
      "count    50.000000\n",
      "mean      0.403571\n",
      "std       0.171849\n",
      "min       0.035714\n",
      "25%       0.285714\n",
      "50%       0.428571\n",
      "75%       0.500000\n",
      "max       0.714286\n",
      "dtype: float64\n",
      "count    50.000000\n",
      "mean      0.374286\n",
      "std       0.226595\n",
      "min       0.000000\n",
      "25%       0.214286\n",
      "50%       0.357143\n",
      "75%       0.500000\n",
      "max       1.000000\n",
      "dtype: float64\n",
      "count    50.000000\n",
      "mean      0.535000\n",
      "std       0.227652\n",
      "min       0.083333\n",
      "25%       0.375000\n",
      "50%       0.541667\n",
      "75%       0.666667\n",
      "max       1.000000\n",
      "dtype: float64\n",
      "count    50.000000\n",
      "mean      0.619167\n",
      "std       0.246864\n",
      "min       0.000000\n",
      "25%       0.468750\n",
      "50%       0.604167\n",
      "75%       0.791667\n",
      "max       1.000000\n",
      "dtype: float64\n",
      "count    50.000000\n",
      "mean      0.269286\n",
      "std       0.170015\n",
      "min       0.000000\n",
      "25%       0.151786\n",
      "50%       0.250000\n",
      "75%       0.392857\n",
      "max       0.750000\n",
      "dtype: float64\n",
      "SPN:\n",
      "count    41.000000\n",
      "mean      0.309233\n",
      "std       0.175439\n",
      "min       0.000000\n",
      "25%       0.214286\n",
      "50%       0.321429\n",
      "75%       0.428571\n",
      "max       0.714286\n",
      "dtype: float64\n",
      "count    41.000000\n",
      "mean      0.233449\n",
      "std       0.203931\n",
      "min       0.000000\n",
      "25%       0.000000\n",
      "50%       0.214286\n",
      "75%       0.428571\n",
      "max       0.642857\n",
      "dtype: float64\n",
      "count    41.000000\n",
      "mean      0.434959\n",
      "std       0.268911\n",
      "min       0.000000\n",
      "25%       0.208333\n",
      "50%       0.500000\n",
      "75%       0.583333\n",
      "max       1.000000\n",
      "dtype: float64\n",
      "count    41.000000\n",
      "mean      0.409553\n",
      "std       0.288058\n",
      "min       0.000000\n",
      "25%       0.166667\n",
      "50%       0.416667\n",
      "75%       0.541667\n",
      "max       1.000000\n",
      "dtype: float64\n",
      "count    41.000000\n",
      "mean      0.144599\n",
      "std       0.117084\n",
      "min       0.000000\n",
      "25%       0.035714\n",
      "50%       0.142857\n",
      "75%       0.214286\n",
      "max       0.428571\n",
      "dtype: float64\n",
      "GRM:\n",
      "count    66.000000\n",
      "mean      0.454004\n",
      "std       0.176055\n",
      "min       0.000000\n",
      "25%       0.357143\n",
      "50%       0.428571\n",
      "75%       0.571429\n",
      "max       0.785714\n",
      "dtype: float64\n",
      "count    66.000000\n",
      "mean      0.346320\n",
      "std       0.180807\n",
      "min       0.000000\n",
      "25%       0.214286\n",
      "50%       0.392857\n",
      "75%       0.500000\n",
      "max       0.785714\n",
      "dtype: float64\n",
      "count    66.000000\n",
      "mean      0.467803\n",
      "std       0.243263\n",
      "min       0.000000\n",
      "25%       0.291667\n",
      "50%       0.458333\n",
      "75%       0.625000\n",
      "max       1.000000\n",
      "dtype: float64\n",
      "count    66.000000\n",
      "mean      0.575758\n",
      "std       0.240848\n",
      "min       0.083333\n",
      "25%       0.416667\n",
      "50%       0.541667\n",
      "75%       0.791667\n",
      "max       1.000000\n",
      "dtype: float64\n",
      "count    66.000000\n",
      "mean      0.234848\n",
      "std       0.168223\n",
      "min       0.000000\n",
      "25%       0.142857\n",
      "50%       0.178571\n",
      "75%       0.357143\n",
      "max       0.750000\n",
      "dtype: float64\n"
     ]
    }
   ],
   "source": [
    "print('ENG:')\n",
    "eng_dba = dba.iloc[:50]\n",
    "eng_sdca = sdca.iloc[:50]\n",
    "eng_ait = ait.iloc[:50]\n",
    "eng_aidmt = aidmt.iloc[:50]\n",
    "eng_dss = dss.iloc[:50]\n",
    "print(dba.iloc[:50].mean(axis = 1).describe())\n",
    "print(sdca.iloc[:50].mean(axis = 1).describe())\n",
    "print(ait.iloc[:50].mean(axis = 1).describe())\n",
    "print(aidmt.iloc[:50].mean(axis = 1).describe())\n",
    "print(dss.iloc[:50].mean(axis = 1).describe())\n",
    "\n",
    "print('SPN:')\n",
    "spn_dba = dba.iloc[50:91]\n",
    "spn_sdca = sdca.iloc[50:91]\n",
    "spn_ait = ait.iloc[50:91]\n",
    "spn_aidmt = aidmt.iloc[50:91]\n",
    "spn_dss = dss.iloc[50:91]\n",
    "print(dba.iloc[50:91].reset_index(drop = True).mean(axis = 1).describe())\n",
    "print(sdca.iloc[50:91].reset_index(drop = True).mean(axis = 1).describe())\n",
    "print(ait.iloc[50:91].reset_index(drop = True).mean(axis = 1).describe())\n",
    "print(aidmt.iloc[50:91].reset_index(drop = True).mean(axis = 1).describe())\n",
    "print(dss.iloc[50:91].reset_index(drop = True).mean(axis = 1).describe())\n",
    "print('GRM:')\n",
    "grm_dba = dba.iloc[91:]\n",
    "grm_sdca = sdca.iloc[91:]\n",
    "grm_ait = ait.iloc[91:]\n",
    "grm_aidmt = aidmt.iloc[91:]\n",
    "grm_dss = dss.iloc[91:]\n",
    "print(dba.iloc[91:].reset_index(drop = True).mean(axis = 1).describe())\n",
    "print(sdca.iloc[91:].reset_index(drop = True).mean(axis = 1).describe())\n",
    "print(ait.iloc[91:].reset_index(drop = True).mean(axis = 1).describe())\n",
    "print(aidmt.iloc[91:].reset_index(drop = True).mean(axis = 1).describe())\n",
    "print(dss.iloc[91:].reset_index(drop = True).mean(axis = 1).describe())"
   ]
  },
  {
   "cell_type": "code",
   "execution_count": 219,
   "id": "053119c1-4334-42c4-b5dd-d4da65f35e3f",
   "metadata": {},
   "outputs": [
    {
     "name": "stdout",
     "output_type": "stream",
     "text": [
      "1356.0 0.23225458955856265\n"
     ]
    },
    {
     "data": {
      "image/png": "[encoded data removed]",
      "text/plain": [
       "<Figure size 432x288 with 1 Axes>"
      ]
     },
     "metadata": {
      "needs_background": "light"
     },
     "output_type": "display_data"
    }
   ],
   "source": [
    "plt.title('American SDCA and DBA Scores')\n",
    "eng_dba.mean(axis =1).hist(label = 'DBA Score', alpha = .75)\n",
    "eng_sdca.mean(axis =1).hist(label = 'SDCA Score', alpha = .75)\n",
    "plt.xlabel('Scores')\n",
    "plt.ylabel('Responses')\n",
    "plt.legend()\n",
    "plt.grid(False)\n",
    "\n",
    "stat, p = mannwhitneyu(eng_dba.mean(axis =1),\n",
    "                       eng_sdca.mean(axis =1),\n",
    "                       alternative = 'greater')\n",
    "print(stat, p)\n",
    "plt.savefig('./graphs/international_scores.png')"
   ]
  },
  {
   "cell_type": "code",
   "execution_count": 223,
   "id": "8b8fa71b-66e1-47c9-abf6-1af081f87ba1",
   "metadata": {},
   "outputs": [
    {
     "name": "stdout",
     "output_type": "stream",
     "text": [
      "983.0 0.03281553893358544\n"
     ]
    },
    {
     "data": {
      "image/png": "[encoded data removed]",
      "text/plain": [
       "<Figure size 432x288 with 1 Axes>"
      ]
     },
     "metadata": {
      "needs_background": "light"
     },
     "output_type": "display_data"
    }
   ],
   "source": [
    "plt.title('American AIT and AIDMT Scores')\n",
    "eng_ait.mean(axis =1).hist(label = 'AIT Score', alpha = .75)\n",
    "eng_aidmt.mean(axis =1).hist(label = 'AIDMT Score', alpha = .75)\n",
    "plt.xlabel('Scores')\n",
    "plt.ylabel('Responses')\n",
    "plt.legend()\n",
    "plt.grid(False)\n",
    "\n",
    "stat, p = mannwhitneyu(eng_ait.mean(axis =1),\n",
    "                       eng_aidmt.mean(axis =1),\n",
    "                       alternative = 'less')\n",
    "print(stat, p)\n",
    "plt.savefig('./graphs/international_scores.png')"
   ]
  },
  {
   "cell_type": "code",
   "execution_count": 246,
   "id": "1be128a8-1259-4b80-b72a-274fce2fb6fe",
   "metadata": {},
   "outputs": [
    {
     "name": "stdout",
     "output_type": "stream",
     "text": [
      "1641.0 0.007234068082585376\n"
     ]
    },
    {
     "data": {
      "image/png": "[encoded data removed]",
      "text/plain": [
       "<Figure size 432x288 with 1 Axes>"
      ]
     },
     "metadata": {
      "needs_background": "light"
     },
     "output_type": "display_data"
    }
   ],
   "source": [
    "plt.title('German AIT and AIDMT Scores')\n",
    "grm_ait.mean(axis =1).hist(label = 'AIT Score', alpha = .75)\n",
    "grm_aidmt.mean(axis =1).hist(label = 'AIDMT Score', alpha = .75)\n",
    "plt.xlabel('Scores')\n",
    "plt.ylabel('Responses')\n",
    "plt.legend()\n",
    "plt.grid(False)\n",
    "\n",
    "stat, p = mannwhitneyu(grm_ait.mean(axis =1),\n",
    "                       grm_aidmt.mean(axis =1),\n",
    "                       alternative = 'less')\n",
    "print(stat, p)\n",
    "plt.savefig('./graphs/international_scores.png')"
   ]
  },
  {
   "cell_type": "code",
   "execution_count": 249,
   "id": "495c1116-c1ec-414d-8152-c323624ef7c3",
   "metadata": {},
   "outputs": [
    {
     "name": "stdout",
     "output_type": "stream",
     "text": [
      "916.5 0.4818527331299527\n"
     ]
    },
    {
     "data": {
      "image/png": "[encoded data removed]",
      "text/plain": [
       "<Figure size 432x288 with 1 Axes>"
      ]
     },
     "metadata": {
      "needs_background": "light"
     },
     "output_type": "display_data"
    }
   ],
   "source": [
    "plt.title('Central American AIT and AIDMT Scores')\n",
    "spn_ait.mean(axis =1).hist(label = 'AIT Score', alpha = .75)\n",
    "spn_aidmt.mean(axis =1).hist(label = 'AIDMT Score', alpha = .75)\n",
    "plt.xlabel('Scores')\n",
    "plt.ylabel('Responses')\n",
    "plt.legend()\n",
    "plt.grid(False)\n",
    "\n",
    "stat, p = mannwhitneyu(spn_ait.mean(axis =1),\n",
    "                       spn_aidmt.mean(axis =1),\n",
    "                       alternative = 'two-sided')\n",
    "print(stat, p)\n",
    "plt.savefig('./graphs/international_scores.png')"
   ]
  },
  {
   "cell_type": "code",
   "execution_count": 175,
   "id": "cd95d54d-f84c-49aa-8980-193e07f967d7",
   "metadata": {},
   "outputs": [
    {
     "data": {
      "image/png": "[encoded data removed]",
      "text/plain": [
       "<Figure size 432x288 with 1 Axes>"
      ]
     },
     "metadata": {
      "needs_background": "light"
     },
     "output_type": "display_data"
    }
   ],
   "source": [
    "plt.title('International SDCA Scores')\n",
    "sdca.mean(axis =1).hist(alpha = .75)\n",
    "plt.xlabel('SDCA Scores')\n",
    "plt.ylabel('Responses')\n",
    "plt.grid(False)\n",
    "plt.savefig('./graphs/international_sdca.png')"
   ]
  },
  {
   "cell_type": "code",
   "execution_count": 185,
   "id": "68a30c93-d6b1-4477-91cb-189559703112",
   "metadata": {},
   "outputs": [
    {
     "name": "stdout",
     "output_type": "stream",
     "text": [
      "14761.5 0.0011685848128117288\n"
     ]
    },
    {
     "data": {
      "image/png": "[encoded data removed]",
      "text/plain": [
       "<Figure size 432x288 with 1 Axes>"
      ]
     },
     "metadata": {
      "needs_background": "light"
     },
     "output_type": "display_data"
    }
   ],
   "source": [
    "plt.title('International SDCA and DBA Scores')\n",
    "dba.mean(axis =1).hist(label = 'DBA Score', alpha = .75)\n",
    "sdca.mean(axis =1).hist(label = 'SDCA Score', alpha = .75)\n",
    "plt.xlabel('Scores')\n",
    "plt.ylabel('Responses')\n",
    "plt.legend()\n",
    "plt.grid(False)\n",
    "\n",
    "stat, p = mannwhitneyu(dba.mean(axis =1),\n",
    "                       sdca.mean(axis =1),\n",
    "                       alternative = 'greater')\n",
    "print(stat, p)\n",
    "plt.savefig('./graphs/international_scores.png')"
   ]
  },
  {
   "cell_type": "code",
   "execution_count": null,
   "id": "0569f80c-359c-462b-a6bb-6b43364eaa5e",
   "metadata": {},
   "outputs": [],
   "source": []
  },
  {
   "cell_type": "code",
   "execution_count": 186,
   "id": "3418ea78-deb5-48e3-bd88-d889aeceea19",
   "metadata": {},
   "outputs": [
    {
     "name": "stdout",
     "output_type": "stream",
     "text": [
      "3099.5 0.009758940337465048\n"
     ]
    },
    {
     "data": {
      "image/png": "[encoded data removed]",
      "text/plain": [
       "<Figure size 432x288 with 1 Axes>"
      ]
     },
     "metadata": {
      "needs_background": "light"
     },
     "output_type": "display_data"
    }
   ],
   "source": [
    "plt.title('International SDCA Scores by AIT')\n",
    "sdca.iloc[ait.loc[ait.mean(axis = 1).gt(.5) == True].index].mean(axis =1).hist(label = 'Trustful', alpha = .75)\n",
    "sdca.iloc[ait.loc[ait.mean(axis = 1).lt(.5) == True].index].mean(axis =1).hist(label = 'Distrustful', alpha = .75)\n",
    "plt.xlabel('SDCA Score')\n",
    "plt.ylabel('Responses')\n",
    "plt.legend()\n",
    "plt.grid(False)\n",
    "\n",
    "stat, p = mannwhitneyu(sdca.iloc[ait.loc[ait.mean(axis = 1).gt(.5) == True].index].mean(axis =1),\n",
    "                       sdca.iloc[ait.loc[ait.mean(axis = 1).lt(.5) == True].index].mean(axis =1),\n",
    "                       alternative = 'two-sided')\n",
    "print(stat, p)\n",
    "plt.savefig('./graphs/international_sdca_trust_distrust.png')"
   ]
  },
  {
   "cell_type": "code",
   "execution_count": 188,
   "id": "7940b1aa-b944-4831-a4c3-ca677c831379",
   "metadata": {},
   "outputs": [
    {
     "name": "stdout",
     "output_type": "stream",
     "text": [
      "5025.0 0.5966074915382804\n"
     ]
    }
   ],
   "source": [
    "stat, p = mannwhitneyu(sdca.iloc[ait.loc[ait.mean(axis = 1).gt(.5) == True].index].mean(axis =1),\n",
    "                       dba.mean(axis =1),\n",
    "                       alternative = 'two-sided')\n",
    "print(stat,p)"
   ]
  },
  {
   "cell_type": "code",
   "execution_count": 189,
   "id": "9d62b8bc-5b9a-486f-bf3f-6b53fe92ec00",
   "metadata": {},
   "outputs": [
    {
     "name": "stdout",
     "output_type": "stream",
     "text": [
      "4089.0 0.0002697645721902261\n"
     ]
    }
   ],
   "source": [
    "stat, p = mannwhitneyu(sdca.iloc[ait.loc[ait.mean(axis = 1).lt(.5) == True].index].mean(axis =1),\n",
    "                       dba.mean(axis =1),\n",
    "                       alternative = 'two-sided')\n",
    "print(stat,p)"
   ]
  },
  {
   "cell_type": "code",
   "execution_count": 184,
   "id": "52fb72e5-77da-4afa-8f6f-f306716f5504",
   "metadata": {},
   "outputs": [
    {
     "data": {
      "image/png": "[encoded data removed]",
      "text/plain": [
       "<Figure size 432x288 with 1 Axes>"
      ]
     },
     "metadata": {
      "needs_background": "light"
     },
     "output_type": "display_data"
    }
   ],
   "source": [
    "plt.title('International DBA Scores')\n",
    "dba.mean(axis =1).hist(alpha = .75)\n",
    "plt.xlabel('DBA Scores')\n",
    "plt.ylabel('Responses')\n",
    "plt.grid(False)\n",
    "plt.savefig('./graphs/international_dba.png')"
   ]
  },
  {
   "cell_type": "code",
   "execution_count": 180,
   "id": "9061f8a3-f070-455a-9977-f3daac24bedd",
   "metadata": {},
   "outputs": [
    {
     "name": "stdout",
     "output_type": "stream",
     "text": [
      "2238.0 0.31879041771840855\n"
     ]
    },
    {
     "data": {
      "image/png": "[encoded data removed]",
      "text/plain": [
       "<Figure size 432x288 with 1 Axes>"
      ]
     },
     "metadata": {
      "needs_background": "light"
     },
     "output_type": "display_data"
    }
   ],
   "source": [
    "plt.title('International DBA Scores by AIT')\n",
    "dba.iloc[ait.loc[ait.mean(axis = 1).gt(.5) == True].index].mean(axis =1).hist(label = 'Trustful', alpha = .75)\n",
    "dba.iloc[ait.loc[ait.mean(axis = 1).lt(.5) == True].index].mean(axis =1).hist(label = 'Distrustful', alpha = .75)\n",
    "plt.xlabel('DBA Score')\n",
    "plt.ylabel('Responses')\n",
    "plt.legend()\n",
    "plt.grid(False)\n",
    "stat, p = mannwhitneyu(dba.iloc[ait.loc[ait.mean(axis = 1).gt(.5) == True].index].mean(axis =1),\n",
    "                       dba.iloc[ait.loc[ait.mean(axis = 1).lt(.5) == True].index].mean(axis =1),\n",
    "                       alternative = 'two-sided')\n",
    "print(stat, p)\n",
    "plt.savefig('./graphs/international_dba_trust_distrust.png')"
   ]
  },
  {
   "cell_type": "code",
   "execution_count": 267,
   "id": "803af788-dc13-4bb4-a116-d117065b35a3",
   "metadata": {},
   "outputs": [
    {
     "name": "stdout",
     "output_type": "stream",
     "text": [
      " What is your trust level to utilize Artificial Intelligence or Fully Autonomous Technologies?\n",
      "1951.0 0.042408158573597386\n",
      " What is your trust level that self-driving cars will be able to navigate in crowded pedestrian areas?\n",
      "2105.5 0.00448637925318851\n",
      " What is your trust level in the ability of self-driving cars to navigate safely with no-person in the vehicle. \n",
      "1947.0 0.04502378707951622\n"
     ]
    },
    {
     "data": {
      "text/plain": [
       "<Figure size 432x288 with 0 Axes>"
      ]
     },
     "metadata": {},
     "output_type": "display_data"
    },
    {
     "data": {
      "image/png": "[encoded data removed]",
      "text/plain": [
       "<Figure size 432x288 with 1 Axes>"
      ]
     },
     "metadata": {
      "needs_background": "light"
     },
     "output_type": "display_data"
    },
    {
     "data": {
      "image/png": "[encoded data removed]",
      "text/plain": [
       "<Figure size 432x288 with 1 Axes>"
      ]
     },
     "metadata": {
      "needs_background": "light"
     },
     "output_type": "display_data"
    },
    {
     "data": {
      "image/png": "[encoded data removed]",
      "text/plain": [
       "<Figure size 432x288 with 1 Axes>"
      ]
     },
     "metadata": {
      "needs_background": "light"
     },
     "output_type": "display_data"
    }
   ],
   "source": [
    "for i, eng_question in enumerate(eng_ait.columns):\n",
    "    stat, p = mannwhitneyu(eng_ait[eng_question], grm_ait[grm_ait.columns[i]],  alternative = 'greater')\n",
    "    if(p<=.05):\n",
    "        print(eng_question[7:])\n",
    "        print(stat, p)\n",
    "        plt.tight_layout()\n",
    "        plt.subplots_adjust(top = 0.8)\n",
    "        fig2, ax2 = plt.subplots()\n",
    "        ax2.set_title(f'{eng_question[7:]}', loc = 'center', wrap = True)\n",
    "        fig2.set_xticklabels=('USA', 'GERMANY')\n",
    "        ax2.boxplot([eng_ait[eng_question],\n",
    "                     grm_ait[grm_ait.columns[i]]\n",
    "                    ])\n",
    "        plt.xticks([1,2], ['USA',\n",
    "                           'GERMANY',\n",
    "                          ])\n",
    "        plt.ylabel('Response Scale')\n",
    "        plt.savefig(f'./graphs/eng_grm/{eng_question}_eng_grm.png')\n",
    "        "
   ]
  },
  {
   "cell_type": "code",
   "execution_count": 268,
   "id": "f9d1e624-877c-4557-afe3-3214026d6b73",
   "metadata": {},
   "outputs": [],
   "source": [
    "for i, eng_question in enumerate(eng_ait.columns):\n",
    "    stat, p = mannwhitneyu(eng_ait[eng_question], grm_ait[grm_ait.columns[i]],  alternative = 'less')\n",
    "    if(p<=.05):\n",
    "        print(eng_question[7:])\n",
    "        print(stat, p)\n",
    "        plt.tight_layout()\n",
    "        plt.subplots_adjust(top = 0.8)\n",
    "        fig2, ax2 = plt.subplots()\n",
    "        ax2.set_title(f'{eng_question[7:]}', loc = 'center', wrap = True)\n",
    "        fig2.set_xticklabels=('USA', 'GERMANY')\n",
    "        ax2.boxplot([eng_ait[eng_question],\n",
    "                     grm_ait[grm_ait.columns[i]]\n",
    "                    ])\n",
    "        plt.xticks([1,2], ['USA',\n",
    "                           'GERMANY',\n",
    "                          ])\n",
    "        plt.ylabel('Response Scale')\n",
    "        plt.savefig(f'./graphs/eng_grm/{eng_question}_eng_grm.png')\n",
    "        "
   ]
  },
  {
   "cell_type": "code",
   "execution_count": 278,
   "id": "e8853ac5-576b-41d5-be2b-e2275f2a6465",
   "metadata": {},
   "outputs": [
    {
     "name": "stdout",
     "output_type": "stream",
     "text": [
      " What is your trust level that self-driving cars will keep your own safety as it's primary objective?\n",
      "1291.5 0.014180129320223965\n",
      " What is your trust level in the ability of self-driving cars to navigate safely with no-person in the vehicle. \n",
      "1393.5 0.0013158770959560253\n"
     ]
    },
    {
     "data": {
      "text/plain": [
       "<Figure size 432x288 with 0 Axes>"
      ]
     },
     "metadata": {},
     "output_type": "display_data"
    },
    {
     "data": {
      "image/png": "[encoded data removed]",
      "text/plain": [
       "<Figure size 432x288 with 1 Axes>"
      ]
     },
     "metadata": {
      "needs_background": "light"
     },
     "output_type": "display_data"
    },
    {
     "data": {
      "image/png": "[encoded data removed]",
      "text/plain": [
       "<Figure size 432x288 with 1 Axes>"
      ]
     },
     "metadata": {
      "needs_background": "light"
     },
     "output_type": "display_data"
    }
   ],
   "source": [
    "for i, eng_question in enumerate(eng_ait.columns):\n",
    "    stat, p = mannwhitneyu(eng_ait[eng_question], spn_ait[spn_ait.columns[i]],  alternative = 'greater')\n",
    "    if(p<=.05):\n",
    "        print(eng_question[7:])\n",
    "        print(stat, p)\n",
    "        plt.tight_layout()\n",
    "        plt.subplots_adjust(top = 0.8)\n",
    "        fig2, ax2 = plt.subplots()\n",
    "        ax2.set_title(f'{eng_question[7:]}', loc = 'center', wrap = True)\n",
    "        fig2.set_xticklabels=('USA', 'Central America')\n",
    "        ax2.boxplot([eng_ait[eng_question],\n",
    "                     spn_ait[spn_ait.columns[i]]\n",
    "                    ])\n",
    "        plt.xticks([1,2], ['USA',\n",
    "                           'Central America',\n",
    "                          ])\n",
    "        plt.ylabel('Response Scale')\n",
    "        plt.savefig(f'./graphs/eng_spn/{eng_question}_eng_spn.png')\n",
    "        "
   ]
  },
  {
   "cell_type": "code",
   "execution_count": 281,
   "id": "f9089e3b-d5dc-4698-90c4-cc4392453fe5",
   "metadata": {},
   "outputs": [
    {
     "name": "stdout",
     "output_type": "stream",
     "text": [
      " What is your trust level that self-driving cars will be able to navigate in crowded pedestrian areas?\n",
      "1053.0 0.023643765812922064\n"
     ]
    },
    {
     "data": {
      "text/plain": [
       "<Figure size 432x288 with 0 Axes>"
      ]
     },
     "metadata": {},
     "output_type": "display_data"
    },
    {
     "data": {
      "image/png": "[encoded data removed]",
      "text/plain": [
       "<Figure size 432x288 with 1 Axes>"
      ]
     },
     "metadata": {
      "needs_background": "light"
     },
     "output_type": "display_data"
    }
   ],
   "source": [
    "for i, eng_question in enumerate(eng_ait.columns):\n",
    "    stat, p = mannwhitneyu(grm_ait[grm_ait.columns[i]], spn_ait[spn_ait.columns[i]],  alternative = 'less')\n",
    "    if(p<=.05):\n",
    "        print(eng_question[7:])\n",
    "        print(stat, p)\n",
    "        plt.tight_layout()\n",
    "        plt.subplots_adjust(top = 0.8)\n",
    "        fig2, ax2 = plt.subplots()\n",
    "        ax2.set_title(f'{eng_question[7:]}', loc = 'center', wrap = True)\n",
    "        fig2.set_xticklabels=('GERMANY', 'Central America')\n",
    "        ax2.boxplot([grm_ait[grm_ait.columns[i]],\n",
    "                     spn_ait[spn_ait.columns[i]]\n",
    "                    ])\n",
    "        plt.xticks([1,2], ['GERMANY',\n",
    "                           'Central America',\n",
    "                          ])\n",
    "        plt.ylabel('Response Scale')\n",
    "        plt.savefig(f'./graphs/grm_spn/{eng_question}_grm_spn.png')\n",
    "        "
   ]
  },
  {
   "cell_type": "code",
   "execution_count": 265,
   "id": "a3beacf0-243f-4fd0-86f6-b181af89f841",
   "metadata": {},
   "outputs": [
    {
     "name": "stdout",
     "output_type": "stream",
     "text": [
      " What is your trust level that self-driving cars will successfully get you to the EXACT destination you requested?\n",
      "1739.5 0.005347066204609978\n"
     ]
    },
    {
     "data": {
      "text/plain": [
       "<Figure size 432x288 with 0 Axes>"
      ]
     },
     "metadata": {},
     "output_type": "display_data"
    },
    {
     "data": {
      "image/png": "[encoded data removed]",
      "text/plain": [
       "<Figure size 432x288 with 1 Axes>"
      ]
     },
     "metadata": {
      "needs_background": "light"
     },
     "output_type": "display_data"
    }
   ],
   "source": [
    "for i, eng_question in enumerate(eng_ait.columns):\n",
    "    stat, p = mannwhitneyu(grm_ait[grm_ait.columns[i]], spn_ait[spn_ait.columns[i]],  alternative = 'greater')\n",
    "    if(p<=.05):\n",
    "        print(eng_question[7:])\n",
    "        print(stat, p)\n",
    "        plt.tight_layout()\n",
    "        plt.subplots_adjust(top = 0.8)\n",
    "        fig2, ax2 = plt.subplots()\n",
    "        ax2.set_title(f'{eng_question[7:]}', loc = 'center', wrap = True)\n",
    "        fig2.set_xticklabels=('GERMANY', 'Central America')\n",
    "        ax2.boxplot([grm_ait[grm_ait.columns[i]],\n",
    "                     spn_ait[spn_ait.columns[i]]\n",
    "                    ])\n",
    "        plt.xticks([1,2], ['GERMANY',\n",
    "                           'Central America',\n",
    "                          ])\n",
    "        plt.ylabel('Response Scale')\n",
    "        plt.savefig(f'./graphs/grm_spn/{eng_question}_grm_spn.png')\n",
    "        "
   ]
  },
  {
   "cell_type": "code",
   "execution_count": 212,
   "id": "6d0734fc-61af-4fb5-9606-e753541766e6",
   "metadata": {},
   "outputs": [],
   "source": [
    "for i, eng_question in enumerate(eng_ait.columns):\n",
    "    stat, p = mannwhitneyu(eng_ait[eng_question], grm_ait[grm_ait.columns[i]],  alternative = '')\n",
    "    if(p<=.05):\n",
    "        print(eng_question[7:])\n",
    "        print(stat, p)\n",
    "        fig2, ax2 = plt.subplots()\n",
    "        ax2.set_title(f'{eng_question[7:]}')\n",
    "        fig2.set_xticklabels=('USA', 'GERMANY')\n",
    "        ax2.boxplot([eng_ait[eng_question],\n",
    "                     grm_ait[grm_ait.columns[i]]\n",
    "                    ])\n",
    "        plt.xticks([1,2], ['USA',\n",
    "                           'GERMANY',\n",
    "                          ])\n",
    "        "
   ]
  },
  {
   "cell_type": "code",
   "execution_count": 208,
   "id": "a919b7e0-7700-4fd5-8a04-5a7723c39b04",
   "metadata": {},
   "outputs": [
    {
     "name": "stdout",
     "output_type": "stream",
     "text": [
      "ait_41. What is your trust level that self-driving cars will keep your own safety as it's primary objective?\n",
      "1291.5 0.02836025864044793\n",
      "ait_45. What is your trust level in the ability of self-driving cars to navigate safely with no-person in the vehicle. \n",
      "1393.5 0.0026317541919120505\n"
     ]
    },
    {
     "data": {
      "image/png": "[encoded data removed]",
      "text/plain": [
       "<Figure size 432x288 with 1 Axes>"
      ]
     },
     "metadata": {
      "needs_background": "light"
     },
     "output_type": "display_data"
    },
    {
     "data": {
      "image/png": "[encoded data removed]",
      "text/plain": [
       "<Figure size 432x288 with 1 Axes>"
      ]
     },
     "metadata": {
      "needs_background": "light"
     },
     "output_type": "display_data"
    }
   ],
   "source": [
    "for i, eng_question in enumerate(eng_ait.columns):\n",
    "    stat, p = mannwhitneyu(eng_ait[eng_question], spn_ait[spn_ait.columns[i]],  alternative = 'two-sided')\n",
    "    if(p<=.05):\n",
    "        print(eng_question)\n",
    "        print(stat, p)\n",
    "        fig2, ax2 = plt.subplots()\n",
    "        ax2.set_title(f'{eng_question[7:]}')\n",
    "        fig2.set_xticklabels=('USA', 'CENTRAL AMERICA')\n",
    "        ax2.boxplot([eng_ait[eng_question],\n",
    "                     spn_ait[spn_ait.columns[i]]\n",
    "                    ])\n",
    "        plt.xticks([1,2], ['USA',\n",
    "                           'CENTRAL AMERICA',\n",
    "                          ])\n"
   ]
  },
  {
   "cell_type": "code",
   "execution_count": 209,
   "id": "1f1ae9f3-cd7f-4e4b-be83-d1d54593a86f",
   "metadata": {},
   "outputs": [
    {
     "name": "stdout",
     "output_type": "stream",
     "text": [
      "1053.0 0.04728753162584413\n",
      "1739.5 0.010694132409219957\n"
     ]
    },
    {
     "data": {
      "image/png": "[encoded data removed]",
      "text/plain": [
       "<Figure size 432x288 with 1 Axes>"
      ]
     },
     "metadata": {
      "needs_background": "light"
     },
     "output_type": "display_data"
    },
    {
     "data": {
      "image/png": "[encoded data removed]",
      "text/plain": [
       "<Figure size 432x288 with 1 Axes>"
      ]
     },
     "metadata": {
      "needs_background": "light"
     },
     "output_type": "display_data"
    }
   ],
   "source": [
    "for i, grm_question in enumerate(grm_ait.columns):\n",
    "    stat, p = mannwhitneyu(grm_ait[grm_question], spn_ait[spn_ait.columns[i]],  alternative = 'two-sided')\n",
    "    if(p<=.05):\n",
    "        print(stat,p)\n",
    "        fig2, ax2 = plt.subplots()\n",
    "        ax2.set_title(f'{eng_ait[eng_ait.columns[i]].name[7:]}')\n",
    "        fig2.set_xticklabels=('GERMANY', 'CENTRAL AMERICA')\n",
    "        ax2.boxplot([grm_ait[grm_question],\n",
    "                     spn_ait[spn_ait.columns[i]]\n",
    "                    ])\n",
    "        plt.xticks([1,2], ['GERMANY',\n",
    "                           'CENTRAL AMERICA',\n",
    "                          ])"
   ]
  },
  {
   "cell_type": "code",
   "execution_count": null,
   "id": "2101fb02-27d7-4c3b-9ead-50b66130c66a",
   "metadata": {},
   "outputs": [],
   "source": []
  },
  {
   "cell_type": "code",
   "execution_count": 210,
   "id": "757f03d1-2e0a-4aea-b268-95f2df1acb5d",
   "metadata": {},
   "outputs": [
    {
     "name": "stdout",
     "output_type": "stream",
     "text": [
      " Which best describes your behavior most of the time when it comes to signaling lane changes while driving at night: \n",
      "1956.0 0.042996680811920096\n",
      "0.0\n",
      "0     0.00\n",
      "1     0.00\n",
      "2     0.25\n",
      "3     0.00\n",
      "4     0.25\n",
      "5     1.00\n",
      "6     0.00\n",
      "7     0.25\n",
      "8     1.00\n",
      "9     0.00\n",
      "10    0.00\n",
      "11    0.00\n",
      "12    0.25\n",
      "13    0.25\n",
      "14    0.00\n",
      "15    0.00\n",
      "16    1.00\n",
      "17    0.25\n",
      "18    0.50\n",
      "19    0.25\n",
      "20    0.00\n",
      "21    0.25\n",
      "22    0.50\n",
      "23    0.25\n",
      "24    0.50\n",
      "25    0.25\n",
      "26    0.00\n",
      "27    0.00\n",
      "28    0.00\n",
      "29    0.00\n",
      "30    0.50\n",
      "31    1.00\n",
      "32    0.00\n",
      "33    0.00\n",
      "34    0.00\n",
      "35    0.25\n",
      "36    0.00\n",
      "37    0.50\n",
      "38    0.00\n",
      "39    0.00\n",
      "40    0.25\n",
      "41    0.50\n",
      "42    0.00\n",
      "43    0.00\n",
      "44    0.00\n",
      "45    0.00\n",
      "46    0.00\n",
      "47    0.00\n",
      "48    0.00\n",
      "49    0.00\n",
      "Name: dbg_37. Which best describes your behavior most of the time when it comes to signaling lane changes while driving at night: , dtype: float64\n",
      "0.0\n",
      "AxesSubplot(0.125,0.125;0.775x0.755)\n",
      "AxesSubplot(0.125,0.125;0.775x0.755)\n"
     ]
    },
    {
     "data": {
      "image/png": "[encoded data removed]",
      "text/plain": [
       "<Figure size 432x288 with 1 Axes>"
      ]
     },
     "metadata": {
      "needs_background": "light"
     },
     "output_type": "display_data"
    },
    {
     "data": {
      "image/png": "[encoded data removed]",
      "text/plain": [
       "<Figure size 432x288 with 1 Axes>"
      ]
     },
     "metadata": {
      "needs_background": "light"
     },
     "output_type": "display_data"
    }
   ],
   "source": [
    "for i, eng_question in enumerate(eng_dss.columns):\n",
    "    try:\n",
    "        stat, p = mannwhitneyu(eng_dss[eng_question], grm_dss[grm_dss.columns[i]],  alternative = 'two-sided')\n",
    "    except:\n",
    "        continue\n",
    "    if(p<=.05):\n",
    "        print(eng_question[7:])\n",
    "        print(stat, p)\n",
    "        print(eng_dss[eng_question].median())\n",
    "        print(eng_dss[eng_question])\n",
    "        print(grm_dss[grm_dss.columns[i]].median())\n",
    "        print(grm_dss[grm_dss.columns[i]].hist(alpha = .75))\n",
    "        print(eng_dss[eng_question].hist(alpha = .75))\n",
    "        fig2, ax2 = plt.subplots()\n",
    "        ax2.set_title(f'{eng_question[7:]}')\n",
    "        fig2.set_xticklabels=('USA', 'GERMANY')\n",
    "        ax2.boxplot([eng_dss[eng_question],\n",
    "                     grm_dss[grm_dss.columns[i]]\n",
    "                    ])\n",
    "        plt.xticks([1,2], ['USA',\n",
    "                           'GERMANY',\n",
    "                          ])\n"
   ]
  },
  {
   "cell_type": "code",
   "execution_count": 206,
   "id": "8922507a-3df6-4b63-9a39-46ea6b59fe48",
   "metadata": {},
   "outputs": [
    {
     "name": "stdout",
     "output_type": "stream",
     "text": [
      "1356.0 0.4645091791171253\n"
     ]
    },
    {
     "data": {
      "image/png": "[encoded data removed]",
      "text/plain": [
       "<Figure size 432x288 with 1 Axes>"
      ]
     },
     "metadata": {
      "needs_background": "light"
     },
     "output_type": "display_data"
    }
   ],
   "source": [
    "plt.title('United States SDCA and DBA Scores')\n",
    "eng_dba.mean(axis =1).hist(label = 'DBA Score', alpha = .75)\n",
    "eng_sdca.mean(axis =1).hist(label = 'SDCA Score', alpha = .75)\n",
    "plt.xlabel('Scores')\n",
    "plt.ylabel('Responses')\n",
    "plt.legend()\n",
    "plt.grid(False)\n",
    "\n",
    "stat, p = mannwhitneyu(eng_dba.mean(axis =1),\n",
    "                       eng_sdca.mean(axis =1),\n",
    "                       alternative = 'two-sided')\n",
    "print(stat, p)"
   ]
  },
  {
   "cell_type": "code",
   "execution_count": 203,
   "id": "7e861486-a5ce-4472-ad32-1933c3077f87",
   "metadata": {},
   "outputs": [
    {
     "name": "stdout",
     "output_type": "stream",
     "text": [
      "2821.0 0.001610162311929224\n"
     ]
    },
    {
     "data": {
      "image/png": "[encoded data removed]",
      "text/plain": [
       "<Figure size 432x288 with 1 Axes>"
      ]
     },
     "metadata": {
      "needs_background": "light"
     },
     "output_type": "display_data"
    }
   ],
   "source": [
    "plt.title('Germany SDCA and DBA Scores')\n",
    "grm_dba.mean(axis =1).hist(label = 'DBA Score', alpha = .75)\n",
    "grm_sdca.mean(axis =1).hist(label = 'SDCA Score', alpha = .75)\n",
    "plt.xlabel('Scores')\n",
    "plt.ylabel('Responses')\n",
    "plt.legend()\n",
    "plt.grid(False)\n",
    "\n",
    "stat, p = mannwhitneyu(grm_dba.mean(axis =1),\n",
    "                       grm_sdca.mean(axis =1),\n",
    "                       alternative = 'greater')\n",
    "print(stat, p)"
   ]
  },
  {
   "cell_type": "code",
   "execution_count": 204,
   "id": "ef49dc9f-e253-42f4-9df5-976334dc899e",
   "metadata": {},
   "outputs": [
    {
     "name": "stdout",
     "output_type": "stream",
     "text": [
      "2821.0 0.001610162311929224\n"
     ]
    },
    {
     "data": {
      "image/png": "[encoded data removed]",
      "text/plain": [
       "<Figure size 432x288 with 1 Axes>"
      ]
     },
     "metadata": {
      "needs_background": "light"
     },
     "output_type": "display_data"
    }
   ],
   "source": [
    "plt.title('Germany SDCA and DBA Scores')\n",
    "spn_dba.mean(axis =1).hist(label = 'DBA Score', alpha = .75)\n",
    "spn_sdca.mean(axis =1).hist(label = 'SDCA Score', alpha = .75)\n",
    "plt.xlabel('Scores')\n",
    "plt.ylabel('Responses')\n",
    "plt.legend()\n",
    "plt.grid(False)\n",
    "\n",
    "stat, p = mannwhitneyu(grm_dba.mean(axis =1),\n",
    "                       grm_sdca.mean(axis =1),\n",
    "                       alternative = 'greater')\n",
    "print(stat, p)"
   ]
  },
  {
   "cell_type": "code",
   "execution_count": 251,
   "id": "d531a5bf-0bcd-4ec8-86fa-cdc042021607",
   "metadata": {},
   "outputs": [
    {
     "name": "stdout",
     "output_type": "stream",
     "text": [
      "1025.5 0.04270687986567733\n"
     ]
    },
    {
     "data": {
      "image/png": "[encoded data removed]",
      "text/plain": [
       "<Figure size 432x288 with 1 Axes>"
      ]
     },
     "metadata": {
      "needs_background": "light"
     },
     "output_type": "display_data"
    }
   ],
   "source": [
    "plt.title('Central American SDCA and DBA Scores')\n",
    "spn_dba.mean(axis =1).hist(label = 'DBA Score', alpha = .75)\n",
    "spn_sdca.mean(axis =1).hist(label = 'SDCA Score', alpha = .75)\n",
    "plt.xlabel('Scores')\n",
    "plt.ylabel('Responses')\n",
    "plt.legend()\n",
    "plt.grid(False)\n",
    "\n",
    "stat, p = mannwhitneyu(spn_dba.mean(axis =1),\n",
    "                       spn_sdca.mean(axis =1),\n",
    "                       alternative = 'greater')\n",
    "print(stat, p)"
   ]
  },
  {
   "cell_type": "code",
   "execution_count": null,
   "id": "4bb72a6a-232b-4bb9-bc11-ceb6a6d8d3ae",
   "metadata": {},
   "outputs": [],
   "source": []
  }
 ],
 "metadata": {
  "kernelspec": {
   "display_name": "Python 3 (ipykernel)",
   "language": "python",
   "name": "python3"
  },
  "language_info": {
   "codemirror_mode": {
    "name": "ipython",
    "version": 3
   },
   "file_extension": ".py",
   "mimetype": "text/x-python",
   "name": "python",
   "nbconvert_exporter": "python",
   "pygments_lexer": "ipython3",
   "version": "3.9.12"
  }
 },
 "nbformat": 4,
 "nbformat_minor": 5
}
